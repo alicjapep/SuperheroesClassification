{
  "cells": [
    {
      "cell_type": "code",
      "execution_count": null,
      "id": "79fd3fe7",
      "metadata": {
        "id": "79fd3fe7"
      },
      "outputs": [],
      "source": [
        "import pandas as pd\n",
        "import sklearn.model_selection as sk\n",
        "from sklearn.neighbors import KNeighborsClassifier\n",
        "from sklearn.feature_extraction.text import CountVectorizer, TfidfVectorizer\n",
        "from sklearn import preprocessing\n",
        "from sklearn import metrics\n",
        "import numpy as np\n",
        "from sklearn.metrics import confusion_matrix"
      ]
    },
    {
      "cell_type": "markdown",
      "id": "d9a9a013",
      "metadata": {
        "id": "d9a9a013"
      },
      "source": [
        "# Wczytanie i przekształcenie danych\n",
        "Usunięte zostały wiersze, w których nie było informacji o wydawnictwie."
      ]
    },
    {
      "cell_type": "code",
      "execution_count": null,
      "id": "37d09e83",
      "metadata": {
        "id": "37d09e83"
      },
      "outputs": [],
      "source": [
        "data = pd.read_csv(\"superheroes.csv\",)\n",
        "data = data[data['creator'].notna()]\n",
        "data = data.fillna(' ')"
      ]
    },
    {
      "cell_type": "code",
      "execution_count": null,
      "id": "3f190eeb",
      "metadata": {
        "id": "3f190eeb"
      },
      "outputs": [],
      "source": [
        "superheroes = data[[\"creator\", \"history_text\", \"powers_text\", \"superpowers\", \"real_name\", \"power_score\", \"teams\", \"type_race\"]]\n",
        "\n",
        "#utworzenie zmiennej 'joined' z kolumnami zawierającymi wymagane kolumny do klasyfikacji (\"power_text\", \"history_text\")\n",
        "superheroes['joined'] = superheroes[\"history_text\"] + superheroes[\"powers_text\"]\n",
        "\n",
        "#utworzenie zmiennej 'joined2' rozszerzonej o inne kolumny danych, które mogłby okazać sie pomocne przy klasyfikacji\n",
        "superheroes['joined2'] = superheroes[\"history_text\"] + superheroes[\"powers_text\"] + superheroes[\"superpowers\"] + superheroes[\"real_name\"] + superheroes[\"teams\"]+ superheroes[\"type_race\"]\n",
        "\n",
        "#zmiana nazw wszystkich wydawnincw nienależących do Marvel Comics i DC Comics na \"Other\"\n",
        "superheroes[\"creator2\"] = [x if x == \"Marvel Comics\" or x == \"DC Comics\" else \"Other\" for x in superheroes['creator'] ]\n",
        "\n"
      ]
    },
    {
      "cell_type": "markdown",
      "id": "9c37f614",
      "metadata": {
        "id": "9c37f614"
      },
      "source": [
        "## Podział próbki na zbiór uczący oraz testowy"
      ]
    },
    {
      "cell_type": "code",
      "execution_count": null,
      "id": "93a1e0a0",
      "metadata": {
        "id": "93a1e0a0"
      },
      "outputs": [],
      "source": [
        "train, test = sk.train_test_split(superheroes, test_size=0.3, random_state=42, shuffle=True)"
      ]
    },
    {
      "cell_type": "markdown",
      "id": "4e3eee52",
      "metadata": {
        "id": "4e3eee52"
      },
      "source": [
        "## Sprawdzenie reprezentantywności próbki\n",
        "Można zauważyć, że proporcje w każdym zbiorze są do siebie zbliżone więc podział nadaje się do przeprowadzenia klasyfikacji."
      ]
    },
    {
      "cell_type": "code",
      "execution_count": null,
      "id": "df8d4350",
      "metadata": {
        "colab": {
          "base_uri": "https://localhost:8080/"
        },
        "id": "df8d4350",
        "outputId": "72e287b8-9fec-4f4c-a9cf-18175f6cf4eb"
      },
      "outputs": [
        {
          "data": {
            "text/plain": [
              "Marvel Comics    615\n",
              "DC Comics        444\n",
              "Other            252\n",
              "Name: creator2, dtype: int64"
            ]
          },
          "execution_count": 6,
          "metadata": {},
          "output_type": "execute_result"
        }
      ],
      "source": [
        "superheroes[\"creator2\"].value_counts()"
      ]
    },
    {
      "cell_type": "code",
      "execution_count": null,
      "id": "3f625138",
      "metadata": {
        "colab": {
          "base_uri": "https://localhost:8080/"
        },
        "id": "3f625138",
        "outputId": "93b6a71b-9734-4b2d-83ec-7dbf8650a807"
      },
      "outputs": [
        {
          "data": {
            "text/plain": [
              "Marvel Comics    437\n",
              "DC Comics        305\n",
              "Other            175\n",
              "Name: creator2, dtype: int64"
            ]
          },
          "execution_count": 7,
          "metadata": {},
          "output_type": "execute_result"
        }
      ],
      "source": [
        "train[\"creator2\"].value_counts()"
      ]
    },
    {
      "cell_type": "code",
      "execution_count": null,
      "id": "f8d67119",
      "metadata": {
        "colab": {
          "base_uri": "https://localhost:8080/"
        },
        "id": "f8d67119",
        "outputId": "18e8f547-6dd6-427c-b491-bc5e65552226"
      },
      "outputs": [
        {
          "data": {
            "text/plain": [
              "Marvel Comics    178\n",
              "DC Comics        139\n",
              "Other             77\n",
              "Name: creator2, dtype: int64"
            ]
          },
          "execution_count": 8,
          "metadata": {},
          "output_type": "execute_result"
        }
      ],
      "source": [
        "test[\"creator2\"].value_counts()"
      ]
    },
    {
      "cell_type": "markdown",
      "id": "a5a211d0",
      "metadata": {
        "id": "a5a211d0"
      },
      "source": [
        "## Wektoryzacja"
      ]
    },
    {
      "cell_type": "code",
      "execution_count": null,
      "id": "468b873e",
      "metadata": {
        "id": "468b873e"
      },
      "outputs": [],
      "source": [
        "vectorizer_count = CountVectorizer(stop_words='english')\n",
        "\n",
        "X_train = vectorizer_count.fit_transform(train.joined)\n",
        "X_test = vectorizer_count.transform(test.joined)\n",
        "y_train = train.creator2\n",
        "y_test = test.creator2"
      ]
    },
    {
      "cell_type": "code",
      "execution_count": null,
      "id": "75d223e9",
      "metadata": {
        "colab": {
          "base_uri": "https://localhost:8080/"
        },
        "id": "75d223e9",
        "outputId": "db306c74-9062-4e4c-a4fe-de3c9d2d4b6c"
      },
      "outputs": [
        {
          "data": {
            "text/plain": [
              "(917, 27148)"
            ]
          },
          "execution_count": 10,
          "metadata": {},
          "output_type": "execute_result"
        }
      ],
      "source": [
        "X_train.shape"
      ]
    },
    {
      "cell_type": "code",
      "execution_count": null,
      "id": "9949e2fe",
      "metadata": {
        "id": "9949e2fe"
      },
      "outputs": [],
      "source": [
        "vectorizer_count = CountVectorizer(stop_words='english')\n",
        "\n",
        "X_train2 = vectorizer_count.fit_transform(train.joined2)\n",
        "X_test2 = vectorizer_count.transform(test.joined2)\n",
        "y_train2 = train.creator2\n",
        "y_test2 = test.creator2"
      ]
    },
    {
      "cell_type": "markdown",
      "id": "df0ff801",
      "metadata": {
        "id": "df0ff801"
      },
      "source": [
        "# Naive Bayes"
      ]
    },
    {
      "cell_type": "code",
      "execution_count": null,
      "id": "b783b60e",
      "metadata": {
        "id": "b783b60e"
      },
      "outputs": [],
      "source": [
        "from sklearn.naive_bayes import BernoulliNB"
      ]
    },
    {
      "cell_type": "code",
      "execution_count": null,
      "id": "49f7d6d4",
      "metadata": {
        "id": "49f7d6d4"
      },
      "outputs": [],
      "source": [
        "optimal_alpha = 0.5\n",
        "NB_optimal = BernoulliNB(alpha=optimal_alpha)"
      ]
    },
    {
      "cell_type": "code",
      "execution_count": null,
      "id": "31c99211",
      "metadata": {
        "colab": {
          "base_uri": "https://localhost:8080/"
        },
        "id": "31c99211",
        "outputId": "b9575bbe-f3df-4101-9e84-b23d776075bc"
      },
      "outputs": [
        {
          "data": {
            "text/plain": [
              "BernoulliNB(alpha=0.5)"
            ]
          },
          "execution_count": 14,
          "metadata": {},
          "output_type": "execute_result"
        }
      ],
      "source": [
        "# fitting the model\n",
        "NB_optimal.fit(X_train, y_train)"
      ]
    },
    {
      "cell_type": "code",
      "execution_count": null,
      "id": "c66f31f2",
      "metadata": {
        "id": "c66f31f2"
      },
      "outputs": [],
      "source": [
        "# predict the response\n",
        "pred = NB_optimal.predict(X_test)"
      ]
    },
    {
      "cell_type": "code",
      "execution_count": null,
      "id": "ab6f9bfa",
      "metadata": {
        "colab": {
          "base_uri": "https://localhost:8080/"
        },
        "id": "ab6f9bfa",
        "outputId": "83d67f65-c325-416b-e752-bfa16aa55e0c"
      },
      "outputs": [
        {
          "data": {
            "text/plain": [
              "0.8484187568157033"
            ]
          },
          "execution_count": 16,
          "metadata": {},
          "output_type": "execute_result"
        }
      ],
      "source": [
        "NB_optimal.score(X_train, y_train)"
      ]
    },
    {
      "cell_type": "code",
      "execution_count": null,
      "id": "7a5f225d",
      "metadata": {
        "colab": {
          "base_uri": "https://localhost:8080/"
        },
        "id": "7a5f225d",
        "outputId": "6adc5ddd-a823-4611-9bf0-ae4591f39f37"
      },
      "outputs": [
        {
          "data": {
            "text/plain": [
              "0.7461928934010152"
            ]
          },
          "execution_count": 17,
          "metadata": {},
          "output_type": "execute_result"
        }
      ],
      "source": [
        "y_score = NB_optimal.score(X_test, y_test)\n",
        "y_score"
      ]
    },
    {
      "cell_type": "code",
      "execution_count": null,
      "id": "fd7938ce",
      "metadata": {
        "colab": {
          "base_uri": "https://localhost:8080/"
        },
        "id": "fd7938ce",
        "outputId": "079661b5-e999-44b0-88a5-31493b7e0067"
      },
      "outputs": [
        {
          "name": "stdout",
          "output_type": "stream",
          "text": [
            "               precision    recall  f1-score   support\n",
            "\n",
            "    DC Comics       0.65      0.93      0.76       139\n",
            "Marvel Comics       0.88      0.67      0.76       178\n",
            "        Other       0.79      0.58      0.67        77\n",
            "\n",
            "     accuracy                           0.75       394\n",
            "    macro avg       0.77      0.73      0.73       394\n",
            " weighted avg       0.78      0.75      0.74       394\n",
            "\n"
          ]
        }
      ],
      "source": [
        "print(metrics.classification_report(y_test, pred, target_names=[\"DC Comics\" ,\"Marvel Comics\", \"Other\"]))"
      ]
    },
    {
      "cell_type": "code",
      "execution_count": null,
      "id": "9c555f9b",
      "metadata": {
        "colab": {
          "base_uri": "https://localhost:8080/",
          "height": 143
        },
        "id": "9c555f9b",
        "outputId": "5ccf4973-782f-4a7c-deea-eb307bfbf020"
      },
      "outputs": [
        {
          "data": {
            "text/html": [
              "\n",
              "  <div id=\"df-2047bfe9-a518-4208-8e36-3204e51d12ad\">\n",
              "    <div class=\"colab-df-container\">\n",
              "      <div>\n",
              "<style scoped>\n",
              "    .dataframe tbody tr th:only-of-type {\n",
              "        vertical-align: middle;\n",
              "    }\n",
              "\n",
              "    .dataframe tbody tr th {\n",
              "        vertical-align: top;\n",
              "    }\n",
              "\n",
              "    .dataframe thead th {\n",
              "        text-align: right;\n",
              "    }\n",
              "</style>\n",
              "<table border=\"1\" class=\"dataframe\">\n",
              "  <thead>\n",
              "    <tr style=\"text-align: right;\">\n",
              "      <th></th>\n",
              "      <th>0</th>\n",
              "      <th>1</th>\n",
              "      <th>2</th>\n",
              "    </tr>\n",
              "  </thead>\n",
              "  <tbody>\n",
              "    <tr>\n",
              "      <th>0</th>\n",
              "      <td>129</td>\n",
              "      <td>8</td>\n",
              "      <td>2</td>\n",
              "    </tr>\n",
              "    <tr>\n",
              "      <th>1</th>\n",
              "      <td>48</td>\n",
              "      <td>120</td>\n",
              "      <td>10</td>\n",
              "    </tr>\n",
              "    <tr>\n",
              "      <th>2</th>\n",
              "      <td>23</td>\n",
              "      <td>9</td>\n",
              "      <td>45</td>\n",
              "    </tr>\n",
              "  </tbody>\n",
              "</table>\n",
              "</div>\n",
              "      <button class=\"colab-df-convert\" onclick=\"convertToInteractive('df-2047bfe9-a518-4208-8e36-3204e51d12ad')\"\n",
              "              title=\"Convert this dataframe to an interactive table.\"\n",
              "              style=\"display:none;\">\n",
              "        \n",
              "  <svg xmlns=\"http://www.w3.org/2000/svg\" height=\"24px\"viewBox=\"0 0 24 24\"\n",
              "       width=\"24px\">\n",
              "    <path d=\"M0 0h24v24H0V0z\" fill=\"none\"/>\n",
              "    <path d=\"M18.56 5.44l.94 2.06.94-2.06 2.06-.94-2.06-.94-.94-2.06-.94 2.06-2.06.94zm-11 1L8.5 8.5l.94-2.06 2.06-.94-2.06-.94L8.5 2.5l-.94 2.06-2.06.94zm10 10l.94 2.06.94-2.06 2.06-.94-2.06-.94-.94-2.06-.94 2.06-2.06.94z\"/><path d=\"M17.41 7.96l-1.37-1.37c-.4-.4-.92-.59-1.43-.59-.52 0-1.04.2-1.43.59L10.3 9.45l-7.72 7.72c-.78.78-.78 2.05 0 2.83L4 21.41c.39.39.9.59 1.41.59.51 0 1.02-.2 1.41-.59l7.78-7.78 2.81-2.81c.8-.78.8-2.07 0-2.86zM5.41 20L4 18.59l7.72-7.72 1.47 1.35L5.41 20z\"/>\n",
              "  </svg>\n",
              "      </button>\n",
              "      \n",
              "  <style>\n",
              "    .colab-df-container {\n",
              "      display:flex;\n",
              "      flex-wrap:wrap;\n",
              "      gap: 12px;\n",
              "    }\n",
              "\n",
              "    .colab-df-convert {\n",
              "      background-color: #E8F0FE;\n",
              "      border: none;\n",
              "      border-radius: 50%;\n",
              "      cursor: pointer;\n",
              "      display: none;\n",
              "      fill: #1967D2;\n",
              "      height: 32px;\n",
              "      padding: 0 0 0 0;\n",
              "      width: 32px;\n",
              "    }\n",
              "\n",
              "    .colab-df-convert:hover {\n",
              "      background-color: #E2EBFA;\n",
              "      box-shadow: 0px 1px 2px rgba(60, 64, 67, 0.3), 0px 1px 3px 1px rgba(60, 64, 67, 0.15);\n",
              "      fill: #174EA6;\n",
              "    }\n",
              "\n",
              "    [theme=dark] .colab-df-convert {\n",
              "      background-color: #3B4455;\n",
              "      fill: #D2E3FC;\n",
              "    }\n",
              "\n",
              "    [theme=dark] .colab-df-convert:hover {\n",
              "      background-color: #434B5C;\n",
              "      box-shadow: 0px 1px 3px 1px rgba(0, 0, 0, 0.15);\n",
              "      filter: drop-shadow(0px 1px 2px rgba(0, 0, 0, 0.3));\n",
              "      fill: #FFFFFF;\n",
              "    }\n",
              "  </style>\n",
              "\n",
              "      <script>\n",
              "        const buttonEl =\n",
              "          document.querySelector('#df-2047bfe9-a518-4208-8e36-3204e51d12ad button.colab-df-convert');\n",
              "        buttonEl.style.display =\n",
              "          google.colab.kernel.accessAllowed ? 'block' : 'none';\n",
              "\n",
              "        async function convertToInteractive(key) {\n",
              "          const element = document.querySelector('#df-2047bfe9-a518-4208-8e36-3204e51d12ad');\n",
              "          const dataTable =\n",
              "            await google.colab.kernel.invokeFunction('convertToInteractive',\n",
              "                                                     [key], {});\n",
              "          if (!dataTable) return;\n",
              "\n",
              "          const docLinkHtml = 'Like what you see? Visit the ' +\n",
              "            '<a target=\"_blank\" href=https://colab.research.google.com/notebooks/data_table.ipynb>data table notebook</a>'\n",
              "            + ' to learn more about interactive tables.';\n",
              "          element.innerHTML = '';\n",
              "          dataTable['output_type'] = 'display_data';\n",
              "          await google.colab.output.renderOutput(dataTable, element);\n",
              "          const docLink = document.createElement('div');\n",
              "          docLink.innerHTML = docLinkHtml;\n",
              "          element.appendChild(docLink);\n",
              "        }\n",
              "      </script>\n",
              "    </div>\n",
              "  </div>\n",
              "  "
            ],
            "text/plain": [
              "     0    1   2\n",
              "0  129    8   2\n",
              "1   48  120  10\n",
              "2   23    9  45"
            ]
          },
          "execution_count": 22,
          "metadata": {},
          "output_type": "execute_result"
        }
      ],
      "source": [
        "matrix = confusion_matrix(y_test, pred)\n",
        "pd.DataFrame(matrix)"
      ]
    },
    {
      "cell_type": "markdown",
      "id": "Ifmv_vQk91Bm",
      "metadata": {
        "id": "Ifmv_vQk91Bm"
      },
      "source": [
        "Najbardziej optymalnym wspólczynnikiem alpha dla Klasyfikatora Naiwnego Bayesa okzało się alpha = 0.5. Klasyfikator ten uzyskał trafność na poziomie 0.85 na próbie uczącej, oraz 0.75 na próbie testowej. Prezycja dla \"DC Comics\" czyli ilość dobrze zakfalifikowanych jednostek do odpowiedniej klasy w stosunku do wszystkich zakfalifikowanych do tej klasy jednostek wynosi 0.65 Jest to najniższy wynik, co oznacza, że do tej klasy często kfalifikowane były dane z innych klas. Klasyfikator najczęściej mylił się w przypadku klasy \"Other\" i przypisywał ją do klasy \"DC Comics\", dlatego też w tej klasie czułość jest najniższa.  "
      ]
    },
    {
      "cell_type": "markdown",
      "id": "YDiVR0Jo0UUl",
      "metadata": {
        "id": "YDiVR0Jo0UUl"
      },
      "source": [
        "### Klasyfikacja z uwzględnieniem większej ilości kolumn danych.\n",
        "\n"
      ]
    },
    {
      "cell_type": "code",
      "execution_count": null,
      "id": "516158c4",
      "metadata": {
        "id": "516158c4"
      },
      "outputs": [],
      "source": [
        "optimal_alpha = 0.4\n",
        "NB2 = BernoulliNB(alpha=optimal_alpha)"
      ]
    },
    {
      "cell_type": "code",
      "execution_count": null,
      "id": "fZfpVqwz2aKA",
      "metadata": {
        "colab": {
          "base_uri": "https://localhost:8080/"
        },
        "id": "fZfpVqwz2aKA",
        "outputId": "fa3725bc-8394-4df9-e6b2-23da0427c6ff"
      },
      "outputs": [
        {
          "data": {
            "text/plain": [
              "BernoulliNB(alpha=0.4)"
            ]
          },
          "execution_count": 24,
          "metadata": {},
          "output_type": "execute_result"
        }
      ],
      "source": [
        "NB2.fit(X_train2, y_train2)"
      ]
    },
    {
      "cell_type": "code",
      "execution_count": null,
      "id": "qOjCXneV3EUS",
      "metadata": {
        "id": "qOjCXneV3EUS"
      },
      "outputs": [],
      "source": [
        "pred = NB2.predict(X_test2)"
      ]
    },
    {
      "cell_type": "code",
      "execution_count": null,
      "id": "MuDVq0OB3Sl5",
      "metadata": {
        "colab": {
          "base_uri": "https://localhost:8080/"
        },
        "id": "MuDVq0OB3Sl5",
        "outputId": "e6e3d46a-d345-4f78-c042-6eb85b17fa8b"
      },
      "outputs": [
        {
          "data": {
            "text/plain": [
              "0.8495092693565977"
            ]
          },
          "execution_count": 26,
          "metadata": {},
          "output_type": "execute_result"
        }
      ],
      "source": [
        "NB2.score(X_train2, y_train2)"
      ]
    },
    {
      "cell_type": "code",
      "execution_count": null,
      "id": "q9NX73T_3Pem",
      "metadata": {
        "colab": {
          "base_uri": "https://localhost:8080/"
        },
        "id": "q9NX73T_3Pem",
        "outputId": "5cf91c88-a125-403d-ba06-1cc2a6118725"
      },
      "outputs": [
        {
          "data": {
            "text/plain": [
              "0.7690355329949239"
            ]
          },
          "execution_count": 27,
          "metadata": {},
          "output_type": "execute_result"
        }
      ],
      "source": [
        "y_score = NB2.score(X_test2, y_test2)\n",
        "y_score"
      ]
    },
    {
      "cell_type": "code",
      "execution_count": null,
      "id": "OE8nYelK3ycF",
      "metadata": {
        "colab": {
          "base_uri": "https://localhost:8080/"
        },
        "id": "OE8nYelK3ycF",
        "outputId": "2d046631-ff53-469a-8892-52858959ec43"
      },
      "outputs": [
        {
          "name": "stdout",
          "output_type": "stream",
          "text": [
            "               precision    recall  f1-score   support\n",
            "\n",
            "    DC Comics       0.72      0.88      0.80       139\n",
            "Marvel Comics       0.87      0.70      0.78       178\n",
            "        Other       0.68      0.73      0.70        77\n",
            "\n",
            "     accuracy                           0.77       394\n",
            "    macro avg       0.76      0.77      0.76       394\n",
            " weighted avg       0.78      0.77      0.77       394\n",
            "\n"
          ]
        }
      ],
      "source": [
        "print(metrics.classification_report(y_test2, pred, target_names=[\"DC Comics\" ,\"Marvel Comics\", \"Other\"]))"
      ]
    },
    {
      "cell_type": "code",
      "execution_count": null,
      "id": "UXvjU8024Cm2",
      "metadata": {
        "colab": {
          "base_uri": "https://localhost:8080/",
          "height": 143
        },
        "id": "UXvjU8024Cm2",
        "outputId": "d5e7fcfe-4992-457b-9f2a-d597784ef02a"
      },
      "outputs": [
        {
          "data": {
            "text/html": [
              "\n",
              "  <div id=\"df-4d8344f7-18fa-45b4-88a8-818026ef86d7\">\n",
              "    <div class=\"colab-df-container\">\n",
              "      <div>\n",
              "<style scoped>\n",
              "    .dataframe tbody tr th:only-of-type {\n",
              "        vertical-align: middle;\n",
              "    }\n",
              "\n",
              "    .dataframe tbody tr th {\n",
              "        vertical-align: top;\n",
              "    }\n",
              "\n",
              "    .dataframe thead th {\n",
              "        text-align: right;\n",
              "    }\n",
              "</style>\n",
              "<table border=\"1\" class=\"dataframe\">\n",
              "  <thead>\n",
              "    <tr style=\"text-align: right;\">\n",
              "      <th></th>\n",
              "      <th>0</th>\n",
              "      <th>1</th>\n",
              "      <th>2</th>\n",
              "    </tr>\n",
              "  </thead>\n",
              "  <tbody>\n",
              "    <tr>\n",
              "      <th>0</th>\n",
              "      <td>123</td>\n",
              "      <td>9</td>\n",
              "      <td>7</td>\n",
              "    </tr>\n",
              "    <tr>\n",
              "      <th>1</th>\n",
              "      <td>35</td>\n",
              "      <td>124</td>\n",
              "      <td>19</td>\n",
              "    </tr>\n",
              "    <tr>\n",
              "      <th>2</th>\n",
              "      <td>12</td>\n",
              "      <td>9</td>\n",
              "      <td>56</td>\n",
              "    </tr>\n",
              "  </tbody>\n",
              "</table>\n",
              "</div>\n",
              "      <button class=\"colab-df-convert\" onclick=\"convertToInteractive('df-4d8344f7-18fa-45b4-88a8-818026ef86d7')\"\n",
              "              title=\"Convert this dataframe to an interactive table.\"\n",
              "              style=\"display:none;\">\n",
              "        \n",
              "  <svg xmlns=\"http://www.w3.org/2000/svg\" height=\"24px\"viewBox=\"0 0 24 24\"\n",
              "       width=\"24px\">\n",
              "    <path d=\"M0 0h24v24H0V0z\" fill=\"none\"/>\n",
              "    <path d=\"M18.56 5.44l.94 2.06.94-2.06 2.06-.94-2.06-.94-.94-2.06-.94 2.06-2.06.94zm-11 1L8.5 8.5l.94-2.06 2.06-.94-2.06-.94L8.5 2.5l-.94 2.06-2.06.94zm10 10l.94 2.06.94-2.06 2.06-.94-2.06-.94-.94-2.06-.94 2.06-2.06.94z\"/><path d=\"M17.41 7.96l-1.37-1.37c-.4-.4-.92-.59-1.43-.59-.52 0-1.04.2-1.43.59L10.3 9.45l-7.72 7.72c-.78.78-.78 2.05 0 2.83L4 21.41c.39.39.9.59 1.41.59.51 0 1.02-.2 1.41-.59l7.78-7.78 2.81-2.81c.8-.78.8-2.07 0-2.86zM5.41 20L4 18.59l7.72-7.72 1.47 1.35L5.41 20z\"/>\n",
              "  </svg>\n",
              "      </button>\n",
              "      \n",
              "  <style>\n",
              "    .colab-df-container {\n",
              "      display:flex;\n",
              "      flex-wrap:wrap;\n",
              "      gap: 12px;\n",
              "    }\n",
              "\n",
              "    .colab-df-convert {\n",
              "      background-color: #E8F0FE;\n",
              "      border: none;\n",
              "      border-radius: 50%;\n",
              "      cursor: pointer;\n",
              "      display: none;\n",
              "      fill: #1967D2;\n",
              "      height: 32px;\n",
              "      padding: 0 0 0 0;\n",
              "      width: 32px;\n",
              "    }\n",
              "\n",
              "    .colab-df-convert:hover {\n",
              "      background-color: #E2EBFA;\n",
              "      box-shadow: 0px 1px 2px rgba(60, 64, 67, 0.3), 0px 1px 3px 1px rgba(60, 64, 67, 0.15);\n",
              "      fill: #174EA6;\n",
              "    }\n",
              "\n",
              "    [theme=dark] .colab-df-convert {\n",
              "      background-color: #3B4455;\n",
              "      fill: #D2E3FC;\n",
              "    }\n",
              "\n",
              "    [theme=dark] .colab-df-convert:hover {\n",
              "      background-color: #434B5C;\n",
              "      box-shadow: 0px 1px 3px 1px rgba(0, 0, 0, 0.15);\n",
              "      filter: drop-shadow(0px 1px 2px rgba(0, 0, 0, 0.3));\n",
              "      fill: #FFFFFF;\n",
              "    }\n",
              "  </style>\n",
              "\n",
              "      <script>\n",
              "        const buttonEl =\n",
              "          document.querySelector('#df-4d8344f7-18fa-45b4-88a8-818026ef86d7 button.colab-df-convert');\n",
              "        buttonEl.style.display =\n",
              "          google.colab.kernel.accessAllowed ? 'block' : 'none';\n",
              "\n",
              "        async function convertToInteractive(key) {\n",
              "          const element = document.querySelector('#df-4d8344f7-18fa-45b4-88a8-818026ef86d7');\n",
              "          const dataTable =\n",
              "            await google.colab.kernel.invokeFunction('convertToInteractive',\n",
              "                                                     [key], {});\n",
              "          if (!dataTable) return;\n",
              "\n",
              "          const docLinkHtml = 'Like what you see? Visit the ' +\n",
              "            '<a target=\"_blank\" href=https://colab.research.google.com/notebooks/data_table.ipynb>data table notebook</a>'\n",
              "            + ' to learn more about interactive tables.';\n",
              "          element.innerHTML = '';\n",
              "          dataTable['output_type'] = 'display_data';\n",
              "          await google.colab.output.renderOutput(dataTable, element);\n",
              "          const docLink = document.createElement('div');\n",
              "          docLink.innerHTML = docLinkHtml;\n",
              "          element.appendChild(docLink);\n",
              "        }\n",
              "      </script>\n",
              "    </div>\n",
              "  </div>\n",
              "  "
            ],
            "text/plain": [
              "     0    1   2\n",
              "0  123    9   7\n",
              "1   35  124  19\n",
              "2   12    9  56"
            ]
          },
          "execution_count": 29,
          "metadata": {},
          "output_type": "execute_result"
        }
      ],
      "source": [
        "matrix = confusion_matrix(y_test2, pred)\n",
        "pd.DataFrame(matrix)"
      ]
    },
    {
      "cell_type": "code",
      "execution_count": null,
      "id": "WP1os6nnCQdd",
      "metadata": {
        "id": "WP1os6nnCQdd"
      },
      "outputs": [],
      "source": []
    },
    {
      "cell_type": "markdown",
      "id": "hYeo--VQCRyf",
      "metadata": {
        "id": "hYeo--VQCRyf"
      },
      "source": [
        "Dla większej ilości przyjętych kolumn danych trafność dla próby testowej nieznacznie wzrosła, jednakże wszystkie wyniki są bardzo zlbiżone."
      ]
    },
    {
      "cell_type": "markdown",
      "id": "DSaggTyB4ZST",
      "metadata": {
        "id": "DSaggTyB4ZST"
      },
      "source": [
        "### 30 słów  mających największy wpływ przy klasyfikacji postaci\n",
        "#### Dla kolumn \"powers_text\" oraz \"history_text\""
      ]
    },
    {
      "cell_type": "code",
      "execution_count": null,
      "id": "ikWWkMsu5ATG",
      "metadata": {
        "id": "ikWWkMsu5ATG"
      },
      "outputs": [],
      "source": [
        "def most_informative_feature_for_class(vectorizer, classifier, classlabel, n=30):\n",
        "    labelid = list(classifier.classes_).index(classlabel)\n",
        "    feature_names = vectorizer.get_feature_names()\n",
        "    topn = sorted(zip(classifier.coef_[labelid], feature_names))[-n:]\n",
        "    features = []\n",
        "    for coef, feat in topn:\n",
        "        #print(classlabel, feat, coef)\n",
        "        features.append(feat)\n",
        "    #print(features)\n",
        "    return features\n",
        ""
      ]
    },
    {
      "cell_type": "code",
      "execution_count": null,
      "id": "oeFVRp5v6nqZ",
      "metadata": {
        "id": "oeFVRp5v6nqZ"
      },
      "outputs": [],
      "source": [
        "DC_Comics = most_informative_feature_for_class(vectorizer_count, NB_optimal,\"DC Comics\", n=30)\n",
        "DC = pd.DataFrame(DC_Comics, columns=[\"DC Comics\"])\n",
        "\n",
        "Marvel_Comics = most_informative_feature_for_class(vectorizer_count, NB_optimal,\"Marvel Comics\", n=30)\n",
        "Marvel = pd.DataFrame(Marvel_Comics, columns=[\"Marvel Comics\"])\n",
        "\n",
        "Oth = most_informative_feature_for_class(vectorizer_count, NB_optimal,\"Other\", n=30)\n",
        "Othe = pd.DataFrame(Oth, columns=[\"Other\"])"
      ]
    },
    {
      "cell_type": "code",
      "execution_count": null,
      "id": "OSg1odPycE7Y",
      "metadata": {
        "colab": {
          "base_uri": "https://localhost:8080/",
          "height": 989
        },
        "id": "OSg1odPycE7Y",
        "outputId": "1e4d20ea-157e-4ab4-8ca9-80d28cade8a0"
      },
      "outputs": [
        {
          "data": {
            "text/html": [
              "\n",
              "  <div id=\"df-7b5d53e3-b199-414f-8405-36bdeb29daa6\">\n",
              "    <div class=\"colab-df-container\">\n",
              "      <div>\n",
              "<style scoped>\n",
              "    .dataframe tbody tr th:only-of-type {\n",
              "        vertical-align: middle;\n",
              "    }\n",
              "\n",
              "    .dataframe tbody tr th {\n",
              "        vertical-align: top;\n",
              "    }\n",
              "\n",
              "    .dataframe thead th {\n",
              "        text-align: right;\n",
              "    }\n",
              "</style>\n",
              "<table border=\"1\" class=\"dataframe\">\n",
              "  <thead>\n",
              "    <tr style=\"text-align: right;\">\n",
              "      <th></th>\n",
              "      <th>DC Comics</th>\n",
              "      <th>Marvel Comics</th>\n",
              "      <th>Other</th>\n",
              "    </tr>\n",
              "  </thead>\n",
              "  <tbody>\n",
              "    <tr>\n",
              "      <th>0</th>\n",
              "      <td>timebroker</td>\n",
              "      <td>abilities</td>\n",
              "      <td>porr</td>\n",
              "    </tr>\n",
              "    <tr>\n",
              "      <th>1</th>\n",
              "      <td>harsh</td>\n",
              "      <td>liar</td>\n",
              "      <td>volantis</td>\n",
              "    </tr>\n",
              "    <tr>\n",
              "      <th>2</th>\n",
              "      <td>kept</td>\n",
              "      <td>restorations</td>\n",
              "      <td>boasts</td>\n",
              "    </tr>\n",
              "    <tr>\n",
              "      <th>3</th>\n",
              "      <td>petrovna</td>\n",
              "      <td>tampering</td>\n",
              "      <td>heresy</td>\n",
              "    </tr>\n",
              "    <tr>\n",
              "      <th>4</th>\n",
              "      <td>deactivate</td>\n",
              "      <td>dyed</td>\n",
              "      <td>ferrous</td>\n",
              "    </tr>\n",
              "    <tr>\n",
              "      <th>5</th>\n",
              "      <td>heightens</td>\n",
              "      <td>heightens</td>\n",
              "      <td>foreign</td>\n",
              "    </tr>\n",
              "    <tr>\n",
              "      <th>6</th>\n",
              "      <td>stirs</td>\n",
              "      <td>lawyers</td>\n",
              "      <td>heightens</td>\n",
              "    </tr>\n",
              "    <tr>\n",
              "      <th>7</th>\n",
              "      <td>batrope</td>\n",
              "      <td>timebroker</td>\n",
              "      <td>lawyers</td>\n",
              "    </tr>\n",
              "    <tr>\n",
              "      <th>8</th>\n",
              "      <td>wraithlike</td>\n",
              "      <td>wink</td>\n",
              "      <td>awakens</td>\n",
              "    </tr>\n",
              "    <tr>\n",
              "      <th>9</th>\n",
              "      <td>liar</td>\n",
              "      <td>deactivate</td>\n",
              "      <td>faora</td>\n",
              "    </tr>\n",
              "    <tr>\n",
              "      <th>10</th>\n",
              "      <td>boasts</td>\n",
              "      <td>unsolved</td>\n",
              "      <td>batrope</td>\n",
              "    </tr>\n",
              "    <tr>\n",
              "      <th>11</th>\n",
              "      <td>ferrous</td>\n",
              "      <td>contour</td>\n",
              "      <td>kirk</td>\n",
              "    </tr>\n",
              "    <tr>\n",
              "      <th>12</th>\n",
              "      <td>wink</td>\n",
              "      <td>batrope</td>\n",
              "      <td>unscrupulous</td>\n",
              "    </tr>\n",
              "    <tr>\n",
              "      <th>13</th>\n",
              "      <td>kerridge</td>\n",
              "      <td>kerridge</td>\n",
              "      <td>stirs</td>\n",
              "    </tr>\n",
              "    <tr>\n",
              "      <th>14</th>\n",
              "      <td>mainstream</td>\n",
              "      <td>stirs</td>\n",
              "      <td>unscratched</td>\n",
              "    </tr>\n",
              "    <tr>\n",
              "      <th>15</th>\n",
              "      <td>unsolved</td>\n",
              "      <td>houngan</td>\n",
              "      <td>euphoria</td>\n",
              "    </tr>\n",
              "    <tr>\n",
              "      <th>16</th>\n",
              "      <td>abilities</td>\n",
              "      <td>unscrupulous</td>\n",
              "      <td>wraithlike</td>\n",
              "    </tr>\n",
              "    <tr>\n",
              "      <th>17</th>\n",
              "      <td>les</td>\n",
              "      <td>les</td>\n",
              "      <td>deactivate</td>\n",
              "    </tr>\n",
              "    <tr>\n",
              "      <th>18</th>\n",
              "      <td>unscrupulous</td>\n",
              "      <td>euphoria</td>\n",
              "      <td>unsolved</td>\n",
              "    </tr>\n",
              "    <tr>\n",
              "      <th>19</th>\n",
              "      <td>unscratched</td>\n",
              "      <td>sudan</td>\n",
              "      <td>wink</td>\n",
              "    </tr>\n",
              "    <tr>\n",
              "      <th>20</th>\n",
              "      <td>pornographic</td>\n",
              "      <td>kirk</td>\n",
              "      <td>landmine</td>\n",
              "    </tr>\n",
              "    <tr>\n",
              "      <th>21</th>\n",
              "      <td>euphoria</td>\n",
              "      <td>unscratched</td>\n",
              "      <td>houngan</td>\n",
              "    </tr>\n",
              "    <tr>\n",
              "      <th>22</th>\n",
              "      <td>circulation</td>\n",
              "      <td>boasts</td>\n",
              "      <td>abilities</td>\n",
              "    </tr>\n",
              "    <tr>\n",
              "      <th>23</th>\n",
              "      <td>kirk</td>\n",
              "      <td>pornographic</td>\n",
              "      <td>les</td>\n",
              "    </tr>\n",
              "    <tr>\n",
              "      <th>24</th>\n",
              "      <td>dyed</td>\n",
              "      <td>mainstream</td>\n",
              "      <td>liar</td>\n",
              "    </tr>\n",
              "    <tr>\n",
              "      <th>25</th>\n",
              "      <td>porter</td>\n",
              "      <td>ablaze</td>\n",
              "      <td>negates</td>\n",
              "    </tr>\n",
              "    <tr>\n",
              "      <th>26</th>\n",
              "      <td>negates</td>\n",
              "      <td>porter</td>\n",
              "      <td>pornographic</td>\n",
              "    </tr>\n",
              "    <tr>\n",
              "      <th>27</th>\n",
              "      <td>landmine</td>\n",
              "      <td>negates</td>\n",
              "      <td>porter</td>\n",
              "    </tr>\n",
              "    <tr>\n",
              "      <th>28</th>\n",
              "      <td>ablaze</td>\n",
              "      <td>thoughts</td>\n",
              "      <td>ablaze</td>\n",
              "    </tr>\n",
              "    <tr>\n",
              "      <th>29</th>\n",
              "      <td>thoughts</td>\n",
              "      <td>landmine</td>\n",
              "      <td>thoughts</td>\n",
              "    </tr>\n",
              "  </tbody>\n",
              "</table>\n",
              "</div>\n",
              "      <button class=\"colab-df-convert\" onclick=\"convertToInteractive('df-7b5d53e3-b199-414f-8405-36bdeb29daa6')\"\n",
              "              title=\"Convert this dataframe to an interactive table.\"\n",
              "              style=\"display:none;\">\n",
              "        \n",
              "  <svg xmlns=\"http://www.w3.org/2000/svg\" height=\"24px\"viewBox=\"0 0 24 24\"\n",
              "       width=\"24px\">\n",
              "    <path d=\"M0 0h24v24H0V0z\" fill=\"none\"/>\n",
              "    <path d=\"M18.56 5.44l.94 2.06.94-2.06 2.06-.94-2.06-.94-.94-2.06-.94 2.06-2.06.94zm-11 1L8.5 8.5l.94-2.06 2.06-.94-2.06-.94L8.5 2.5l-.94 2.06-2.06.94zm10 10l.94 2.06.94-2.06 2.06-.94-2.06-.94-.94-2.06-.94 2.06-2.06.94z\"/><path d=\"M17.41 7.96l-1.37-1.37c-.4-.4-.92-.59-1.43-.59-.52 0-1.04.2-1.43.59L10.3 9.45l-7.72 7.72c-.78.78-.78 2.05 0 2.83L4 21.41c.39.39.9.59 1.41.59.51 0 1.02-.2 1.41-.59l7.78-7.78 2.81-2.81c.8-.78.8-2.07 0-2.86zM5.41 20L4 18.59l7.72-7.72 1.47 1.35L5.41 20z\"/>\n",
              "  </svg>\n",
              "      </button>\n",
              "      \n",
              "  <style>\n",
              "    .colab-df-container {\n",
              "      display:flex;\n",
              "      flex-wrap:wrap;\n",
              "      gap: 12px;\n",
              "    }\n",
              "\n",
              "    .colab-df-convert {\n",
              "      background-color: #E8F0FE;\n",
              "      border: none;\n",
              "      border-radius: 50%;\n",
              "      cursor: pointer;\n",
              "      display: none;\n",
              "      fill: #1967D2;\n",
              "      height: 32px;\n",
              "      padding: 0 0 0 0;\n",
              "      width: 32px;\n",
              "    }\n",
              "\n",
              "    .colab-df-convert:hover {\n",
              "      background-color: #E2EBFA;\n",
              "      box-shadow: 0px 1px 2px rgba(60, 64, 67, 0.3), 0px 1px 3px 1px rgba(60, 64, 67, 0.15);\n",
              "      fill: #174EA6;\n",
              "    }\n",
              "\n",
              "    [theme=dark] .colab-df-convert {\n",
              "      background-color: #3B4455;\n",
              "      fill: #D2E3FC;\n",
              "    }\n",
              "\n",
              "    [theme=dark] .colab-df-convert:hover {\n",
              "      background-color: #434B5C;\n",
              "      box-shadow: 0px 1px 3px 1px rgba(0, 0, 0, 0.15);\n",
              "      filter: drop-shadow(0px 1px 2px rgba(0, 0, 0, 0.3));\n",
              "      fill: #FFFFFF;\n",
              "    }\n",
              "  </style>\n",
              "\n",
              "      <script>\n",
              "        const buttonEl =\n",
              "          document.querySelector('#df-7b5d53e3-b199-414f-8405-36bdeb29daa6 button.colab-df-convert');\n",
              "        buttonEl.style.display =\n",
              "          google.colab.kernel.accessAllowed ? 'block' : 'none';\n",
              "\n",
              "        async function convertToInteractive(key) {\n",
              "          const element = document.querySelector('#df-7b5d53e3-b199-414f-8405-36bdeb29daa6');\n",
              "          const dataTable =\n",
              "            await google.colab.kernel.invokeFunction('convertToInteractive',\n",
              "                                                     [key], {});\n",
              "          if (!dataTable) return;\n",
              "\n",
              "          const docLinkHtml = 'Like what you see? Visit the ' +\n",
              "            '<a target=\"_blank\" href=https://colab.research.google.com/notebooks/data_table.ipynb>data table notebook</a>'\n",
              "            + ' to learn more about interactive tables.';\n",
              "          element.innerHTML = '';\n",
              "          dataTable['output_type'] = 'display_data';\n",
              "          await google.colab.output.renderOutput(dataTable, element);\n",
              "          const docLink = document.createElement('div');\n",
              "          docLink.innerHTML = docLinkHtml;\n",
              "          element.appendChild(docLink);\n",
              "        }\n",
              "      </script>\n",
              "    </div>\n",
              "  </div>\n",
              "  "
            ],
            "text/plain": [
              "       DC Comics Marvel Comics         Other\n",
              "0     timebroker     abilities          porr\n",
              "1          harsh          liar      volantis\n",
              "2           kept  restorations        boasts\n",
              "3       petrovna     tampering        heresy\n",
              "4     deactivate          dyed       ferrous\n",
              "5      heightens     heightens       foreign\n",
              "6          stirs       lawyers     heightens\n",
              "7        batrope    timebroker       lawyers\n",
              "8     wraithlike          wink       awakens\n",
              "9           liar    deactivate         faora\n",
              "10        boasts      unsolved       batrope\n",
              "11       ferrous       contour          kirk\n",
              "12          wink       batrope  unscrupulous\n",
              "13      kerridge      kerridge         stirs\n",
              "14    mainstream         stirs   unscratched\n",
              "15      unsolved       houngan      euphoria\n",
              "16     abilities  unscrupulous    wraithlike\n",
              "17           les           les    deactivate\n",
              "18  unscrupulous      euphoria      unsolved\n",
              "19   unscratched         sudan          wink\n",
              "20  pornographic          kirk      landmine\n",
              "21      euphoria   unscratched       houngan\n",
              "22   circulation        boasts     abilities\n",
              "23          kirk  pornographic           les\n",
              "24          dyed    mainstream          liar\n",
              "25        porter        ablaze       negates\n",
              "26       negates        porter  pornographic\n",
              "27      landmine       negates        porter\n",
              "28        ablaze      thoughts        ablaze\n",
              "29      thoughts      landmine      thoughts"
            ]
          },
          "execution_count": 118,
          "metadata": {},
          "output_type": "execute_result"
        }
      ],
      "source": [
        "all = pd.concat([DC, Marvel, Othe], axis = 1)\n",
        "all"
      ]
    },
    {
      "cell_type": "markdown",
      "id": "jLPn0H0TdVAG",
      "metadata": {
        "id": "jLPn0H0TdVAG"
      },
      "source": [
        "#### Przy uwzględnieniu większej ilości kolumn"
      ]
    },
    {
      "cell_type": "code",
      "execution_count": null,
      "id": "IReGl28CdcWb",
      "metadata": {
        "id": "IReGl28CdcWb"
      },
      "outputs": [],
      "source": [
        "DC_Comics = most_informative_feature_for_class(vectorizer_count, NB2,\"DC Comics\", n=30)\n",
        "DC = pd.DataFrame(DC_Comics, columns=[\"DC Comics\"])\n",
        "\n",
        "Marvel_Comics = most_informative_feature_for_class(vectorizer_count, NB2,\"Marvel Comics\", n=30)\n",
        "Marvel = pd.DataFrame(Marvel_Comics, columns=[\"Marvel Comics\"])\n",
        "\n",
        "Oth = most_informative_feature_for_class(vectorizer_count, NB2,\"Other\", n=30)\n",
        "Othe = pd.DataFrame(Oth, columns=[\"Other\"])"
      ]
    },
    {
      "cell_type": "code",
      "execution_count": null,
      "id": "dA2Zjucadfdm",
      "metadata": {
        "colab": {
          "base_uri": "https://localhost:8080/",
          "height": 989
        },
        "id": "dA2Zjucadfdm",
        "outputId": "f8ab1e72-5619-4b35-97d4-f579017cc308"
      },
      "outputs": [
        {
          "data": {
            "text/html": [
              "\n",
              "  <div id=\"df-41990e0a-c8b9-499a-8d40-76049f75773f\">\n",
              "    <div class=\"colab-df-container\">\n",
              "      <div>\n",
              "<style scoped>\n",
              "    .dataframe tbody tr th:only-of-type {\n",
              "        vertical-align: middle;\n",
              "    }\n",
              "\n",
              "    .dataframe tbody tr th {\n",
              "        vertical-align: top;\n",
              "    }\n",
              "\n",
              "    .dataframe thead th {\n",
              "        text-align: right;\n",
              "    }\n",
              "</style>\n",
              "<table border=\"1\" class=\"dataframe\">\n",
              "  <thead>\n",
              "    <tr style=\"text-align: right;\">\n",
              "      <th></th>\n",
              "      <th>DC Comics</th>\n",
              "      <th>Marvel Comics</th>\n",
              "      <th>Other</th>\n",
              "    </tr>\n",
              "  </thead>\n",
              "  <tbody>\n",
              "    <tr>\n",
              "      <th>0</th>\n",
              "      <td>used</td>\n",
              "      <td>world</td>\n",
              "      <td>force</td>\n",
              "    </tr>\n",
              "    <tr>\n",
              "      <th>1</th>\n",
              "      <td>use</td>\n",
              "      <td>using</td>\n",
              "      <td>life</td>\n",
              "    </tr>\n",
              "    <tr>\n",
              "      <th>2</th>\n",
              "      <td>force</td>\n",
              "      <td>death</td>\n",
              "      <td>like</td>\n",
              "    </tr>\n",
              "    <tr>\n",
              "      <th>3</th>\n",
              "      <td>eventually</td>\n",
              "      <td>battle</td>\n",
              "      <td>new</td>\n",
              "    </tr>\n",
              "    <tr>\n",
              "      <th>4</th>\n",
              "      <td>city</td>\n",
              "      <td>killed</td>\n",
              "      <td>mind</td>\n",
              "    </tr>\n",
              "    <tr>\n",
              "      <th>5</th>\n",
              "      <td>known</td>\n",
              "      <td>master</td>\n",
              "      <td>resistance</td>\n",
              "    </tr>\n",
              "    <tr>\n",
              "      <th>6</th>\n",
              "      <td>earth</td>\n",
              "      <td>weapons</td>\n",
              "      <td>healing</td>\n",
              "    </tr>\n",
              "    <tr>\n",
              "      <th>7</th>\n",
              "      <td>stealth</td>\n",
              "      <td>used</td>\n",
              "      <td>weapon</td>\n",
              "    </tr>\n",
              "    <tr>\n",
              "      <th>8</th>\n",
              "      <td>based</td>\n",
              "      <td>life</td>\n",
              "      <td>able</td>\n",
              "    </tr>\n",
              "    <tr>\n",
              "      <th>9</th>\n",
              "      <td>weapon</td>\n",
              "      <td>eventually</td>\n",
              "      <td>accelerated</td>\n",
              "    </tr>\n",
              "    <tr>\n",
              "      <th>10</th>\n",
              "      <td>marksmanship</td>\n",
              "      <td>speed</td>\n",
              "      <td>manipulation</td>\n",
              "    </tr>\n",
              "    <tr>\n",
              "      <th>11</th>\n",
              "      <td>new</td>\n",
              "      <td>stamina</td>\n",
              "      <td>marksmanship</td>\n",
              "    </tr>\n",
              "    <tr>\n",
              "      <th>12</th>\n",
              "      <td>energy</td>\n",
              "      <td>superhuman</td>\n",
              "      <td>energy</td>\n",
              "    </tr>\n",
              "    <tr>\n",
              "      <th>13</th>\n",
              "      <td>power</td>\n",
              "      <td>energy</td>\n",
              "      <td>enhanced</td>\n",
              "    </tr>\n",
              "    <tr>\n",
              "      <th>14</th>\n",
              "      <td>speed</td>\n",
              "      <td>known</td>\n",
              "      <td>power</td>\n",
              "    </tr>\n",
              "    <tr>\n",
              "      <th>15</th>\n",
              "      <td>later</td>\n",
              "      <td>use</td>\n",
              "      <td>time</td>\n",
              "    </tr>\n",
              "    <tr>\n",
              "      <th>16</th>\n",
              "      <td>reflexes</td>\n",
              "      <td>body</td>\n",
              "      <td>durability</td>\n",
              "    </tr>\n",
              "    <tr>\n",
              "      <th>17</th>\n",
              "      <td>able</td>\n",
              "      <td>agility</td>\n",
              "      <td>speed</td>\n",
              "    </tr>\n",
              "    <tr>\n",
              "      <th>18</th>\n",
              "      <td>control</td>\n",
              "      <td>durability</td>\n",
              "      <td>stealth</td>\n",
              "    </tr>\n",
              "    <tr>\n",
              "      <th>19</th>\n",
              "      <td>master</td>\n",
              "      <td>man</td>\n",
              "      <td>intelligence</td>\n",
              "    </tr>\n",
              "    <tr>\n",
              "      <th>20</th>\n",
              "      <td>durability</td>\n",
              "      <td>control</td>\n",
              "      <td>reflexes</td>\n",
              "    </tr>\n",
              "    <tr>\n",
              "      <th>21</th>\n",
              "      <td>weapons</td>\n",
              "      <td>able</td>\n",
              "      <td>strength</td>\n",
              "    </tr>\n",
              "    <tr>\n",
              "      <th>22</th>\n",
              "      <td>intelligence</td>\n",
              "      <td>power</td>\n",
              "      <td>powers</td>\n",
              "    </tr>\n",
              "    <tr>\n",
              "      <th>23</th>\n",
              "      <td>time</td>\n",
              "      <td>later</td>\n",
              "      <td>control</td>\n",
              "    </tr>\n",
              "    <tr>\n",
              "      <th>24</th>\n",
              "      <td>stamina</td>\n",
              "      <td>new</td>\n",
              "      <td>super</td>\n",
              "    </tr>\n",
              "    <tr>\n",
              "      <th>25</th>\n",
              "      <td>strength</td>\n",
              "      <td>time</td>\n",
              "      <td>weapons</td>\n",
              "    </tr>\n",
              "    <tr>\n",
              "      <th>26</th>\n",
              "      <td>agility</td>\n",
              "      <td>human</td>\n",
              "      <td>master</td>\n",
              "    </tr>\n",
              "    <tr>\n",
              "      <th>27</th>\n",
              "      <td>super</td>\n",
              "      <td>strength</td>\n",
              "      <td>agility</td>\n",
              "    </tr>\n",
              "    <tr>\n",
              "      <th>28</th>\n",
              "      <td>powers</td>\n",
              "      <td>super</td>\n",
              "      <td>stamina</td>\n",
              "    </tr>\n",
              "    <tr>\n",
              "      <th>29</th>\n",
              "      <td>human</td>\n",
              "      <td>powers</td>\n",
              "      <td>human</td>\n",
              "    </tr>\n",
              "  </tbody>\n",
              "</table>\n",
              "</div>\n",
              "      <button class=\"colab-df-convert\" onclick=\"convertToInteractive('df-41990e0a-c8b9-499a-8d40-76049f75773f')\"\n",
              "              title=\"Convert this dataframe to an interactive table.\"\n",
              "              style=\"display:none;\">\n",
              "        \n",
              "  <svg xmlns=\"http://www.w3.org/2000/svg\" height=\"24px\"viewBox=\"0 0 24 24\"\n",
              "       width=\"24px\">\n",
              "    <path d=\"M0 0h24v24H0V0z\" fill=\"none\"/>\n",
              "    <path d=\"M18.56 5.44l.94 2.06.94-2.06 2.06-.94-2.06-.94-.94-2.06-.94 2.06-2.06.94zm-11 1L8.5 8.5l.94-2.06 2.06-.94-2.06-.94L8.5 2.5l-.94 2.06-2.06.94zm10 10l.94 2.06.94-2.06 2.06-.94-2.06-.94-.94-2.06-.94 2.06-2.06.94z\"/><path d=\"M17.41 7.96l-1.37-1.37c-.4-.4-.92-.59-1.43-.59-.52 0-1.04.2-1.43.59L10.3 9.45l-7.72 7.72c-.78.78-.78 2.05 0 2.83L4 21.41c.39.39.9.59 1.41.59.51 0 1.02-.2 1.41-.59l7.78-7.78 2.81-2.81c.8-.78.8-2.07 0-2.86zM5.41 20L4 18.59l7.72-7.72 1.47 1.35L5.41 20z\"/>\n",
              "  </svg>\n",
              "      </button>\n",
              "      \n",
              "  <style>\n",
              "    .colab-df-container {\n",
              "      display:flex;\n",
              "      flex-wrap:wrap;\n",
              "      gap: 12px;\n",
              "    }\n",
              "\n",
              "    .colab-df-convert {\n",
              "      background-color: #E8F0FE;\n",
              "      border: none;\n",
              "      border-radius: 50%;\n",
              "      cursor: pointer;\n",
              "      display: none;\n",
              "      fill: #1967D2;\n",
              "      height: 32px;\n",
              "      padding: 0 0 0 0;\n",
              "      width: 32px;\n",
              "    }\n",
              "\n",
              "    .colab-df-convert:hover {\n",
              "      background-color: #E2EBFA;\n",
              "      box-shadow: 0px 1px 2px rgba(60, 64, 67, 0.3), 0px 1px 3px 1px rgba(60, 64, 67, 0.15);\n",
              "      fill: #174EA6;\n",
              "    }\n",
              "\n",
              "    [theme=dark] .colab-df-convert {\n",
              "      background-color: #3B4455;\n",
              "      fill: #D2E3FC;\n",
              "    }\n",
              "\n",
              "    [theme=dark] .colab-df-convert:hover {\n",
              "      background-color: #434B5C;\n",
              "      box-shadow: 0px 1px 3px 1px rgba(0, 0, 0, 0.15);\n",
              "      filter: drop-shadow(0px 1px 2px rgba(0, 0, 0, 0.3));\n",
              "      fill: #FFFFFF;\n",
              "    }\n",
              "  </style>\n",
              "\n",
              "      <script>\n",
              "        const buttonEl =\n",
              "          document.querySelector('#df-41990e0a-c8b9-499a-8d40-76049f75773f button.colab-df-convert');\n",
              "        buttonEl.style.display =\n",
              "          google.colab.kernel.accessAllowed ? 'block' : 'none';\n",
              "\n",
              "        async function convertToInteractive(key) {\n",
              "          const element = document.querySelector('#df-41990e0a-c8b9-499a-8d40-76049f75773f');\n",
              "          const dataTable =\n",
              "            await google.colab.kernel.invokeFunction('convertToInteractive',\n",
              "                                                     [key], {});\n",
              "          if (!dataTable) return;\n",
              "\n",
              "          const docLinkHtml = 'Like what you see? Visit the ' +\n",
              "            '<a target=\"_blank\" href=https://colab.research.google.com/notebooks/data_table.ipynb>data table notebook</a>'\n",
              "            + ' to learn more about interactive tables.';\n",
              "          element.innerHTML = '';\n",
              "          dataTable['output_type'] = 'display_data';\n",
              "          await google.colab.output.renderOutput(dataTable, element);\n",
              "          const docLink = document.createElement('div');\n",
              "          docLink.innerHTML = docLinkHtml;\n",
              "          element.appendChild(docLink);\n",
              "        }\n",
              "      </script>\n",
              "    </div>\n",
              "  </div>\n",
              "  "
            ],
            "text/plain": [
              "       DC Comics Marvel Comics         Other\n",
              "0           used         world         force\n",
              "1            use         using          life\n",
              "2          force         death          like\n",
              "3     eventually        battle           new\n",
              "4           city        killed          mind\n",
              "5          known        master    resistance\n",
              "6          earth       weapons       healing\n",
              "7        stealth          used        weapon\n",
              "8          based          life          able\n",
              "9         weapon    eventually   accelerated\n",
              "10  marksmanship         speed  manipulation\n",
              "11           new       stamina  marksmanship\n",
              "12        energy    superhuman        energy\n",
              "13         power        energy      enhanced\n",
              "14         speed         known         power\n",
              "15         later           use          time\n",
              "16      reflexes          body    durability\n",
              "17          able       agility         speed\n",
              "18       control    durability       stealth\n",
              "19        master           man  intelligence\n",
              "20    durability       control      reflexes\n",
              "21       weapons          able      strength\n",
              "22  intelligence         power        powers\n",
              "23          time         later       control\n",
              "24       stamina           new         super\n",
              "25      strength          time       weapons\n",
              "26       agility         human        master\n",
              "27         super      strength       agility\n",
              "28        powers         super       stamina\n",
              "29         human        powers         human"
            ]
          },
          "execution_count": 120,
          "metadata": {},
          "output_type": "execute_result"
        }
      ],
      "source": [
        "all = pd.concat([DC, Marvel, Othe], axis = 1)\n",
        "all"
      ]
    },
    {
      "cell_type": "markdown",
      "id": "8fd0a23e",
      "metadata": {
        "id": "8fd0a23e"
      },
      "source": [
        "# K Neighbours Classifier"
      ]
    },
    {
      "cell_type": "markdown",
      "id": "4d1165b4",
      "metadata": {
        "id": "4d1165b4"
      },
      "source": [
        "Nearest Neighbours = 7"
      ]
    },
    {
      "cell_type": "code",
      "execution_count": null,
      "id": "12179d6a",
      "metadata": {
        "colab": {
          "base_uri": "https://localhost:8080/"
        },
        "id": "12179d6a",
        "outputId": "42e44ea8-366e-4b1d-b886-7703d4f32022"
      },
      "outputs": [
        {
          "data": {
            "text/plain": [
              "KNeighborsClassifier(n_neighbors=7)"
            ]
          },
          "execution_count": 35,
          "metadata": {},
          "output_type": "execute_result"
        }
      ],
      "source": [
        "knn = KNeighborsClassifier(n_neighbors=7)\n",
        "knn.fit(X_train, y_train)"
      ]
    },
    {
      "cell_type": "code",
      "execution_count": null,
      "id": "8b8a9b55",
      "metadata": {
        "colab": {
          "base_uri": "https://localhost:8080/"
        },
        "id": "8b8a9b55",
        "outputId": "95bf4a3a-2302-4b92-d8bc-acadc389098d"
      },
      "outputs": [
        {
          "data": {
            "text/plain": [
              "0.7535441657579062"
            ]
          },
          "execution_count": 36,
          "metadata": {},
          "output_type": "execute_result"
        }
      ],
      "source": [
        "knn.score(X_train, y_train)"
      ]
    },
    {
      "cell_type": "code",
      "execution_count": null,
      "id": "7e29f21e",
      "metadata": {
        "colab": {
          "base_uri": "https://localhost:8080/"
        },
        "id": "7e29f21e",
        "outputId": "289043df-201d-4670-bb73-58716d9c0448"
      },
      "outputs": [
        {
          "data": {
            "text/plain": [
              "0.6776649746192893"
            ]
          },
          "execution_count": 37,
          "metadata": {},
          "output_type": "execute_result"
        }
      ],
      "source": [
        "knn.score(X_test, y_test)"
      ]
    },
    {
      "cell_type": "code",
      "execution_count": null,
      "id": "85bfd318",
      "metadata": {
        "id": "85bfd318"
      },
      "outputs": [],
      "source": [
        "pred = knn.predict(X_test)"
      ]
    },
    {
      "cell_type": "code",
      "execution_count": null,
      "id": "9ab21725",
      "metadata": {
        "colab": {
          "base_uri": "https://localhost:8080/"
        },
        "id": "9ab21725",
        "outputId": "f3261c13-6934-4337-98fa-318faa3da15d"
      },
      "outputs": [
        {
          "name": "stdout",
          "output_type": "stream",
          "text": [
            "               precision    recall  f1-score   support\n",
            "\n",
            "    DC Comics       0.59      0.86      0.70       139\n",
            "Marvel Comics       0.76      0.78      0.77       178\n",
            "        Other       1.00      0.12      0.21        77\n",
            "\n",
            "     accuracy                           0.68       394\n",
            "    macro avg       0.78      0.58      0.56       394\n",
            " weighted avg       0.75      0.68      0.63       394\n",
            "\n"
          ]
        }
      ],
      "source": [
        "print(metrics.classification_report(y_test, pred, target_names=[\"DC Comics\" ,\"Marvel Comics\", \"Other\"]))"
      ]
    },
    {
      "cell_type": "code",
      "execution_count": null,
      "id": "cd452e7e",
      "metadata": {
        "colab": {
          "base_uri": "https://localhost:8080/",
          "height": 143
        },
        "id": "cd452e7e",
        "outputId": "abea115e-9b1a-40d7-efb3-feefec207ee4"
      },
      "outputs": [
        {
          "data": {
            "text/html": [
              "\n",
              "  <div id=\"df-9415da49-9d11-4891-9568-60a9f504c211\">\n",
              "    <div class=\"colab-df-container\">\n",
              "      <div>\n",
              "<style scoped>\n",
              "    .dataframe tbody tr th:only-of-type {\n",
              "        vertical-align: middle;\n",
              "    }\n",
              "\n",
              "    .dataframe tbody tr th {\n",
              "        vertical-align: top;\n",
              "    }\n",
              "\n",
              "    .dataframe thead th {\n",
              "        text-align: right;\n",
              "    }\n",
              "</style>\n",
              "<table border=\"1\" class=\"dataframe\">\n",
              "  <thead>\n",
              "    <tr style=\"text-align: right;\">\n",
              "      <th></th>\n",
              "      <th>0</th>\n",
              "      <th>1</th>\n",
              "      <th>2</th>\n",
              "    </tr>\n",
              "  </thead>\n",
              "  <tbody>\n",
              "    <tr>\n",
              "      <th>0</th>\n",
              "      <td>119</td>\n",
              "      <td>20</td>\n",
              "      <td>0</td>\n",
              "    </tr>\n",
              "    <tr>\n",
              "      <th>1</th>\n",
              "      <td>39</td>\n",
              "      <td>139</td>\n",
              "      <td>0</td>\n",
              "    </tr>\n",
              "    <tr>\n",
              "      <th>2</th>\n",
              "      <td>43</td>\n",
              "      <td>25</td>\n",
              "      <td>9</td>\n",
              "    </tr>\n",
              "  </tbody>\n",
              "</table>\n",
              "</div>\n",
              "      <button class=\"colab-df-convert\" onclick=\"convertToInteractive('df-9415da49-9d11-4891-9568-60a9f504c211')\"\n",
              "              title=\"Convert this dataframe to an interactive table.\"\n",
              "              style=\"display:none;\">\n",
              "        \n",
              "  <svg xmlns=\"http://www.w3.org/2000/svg\" height=\"24px\"viewBox=\"0 0 24 24\"\n",
              "       width=\"24px\">\n",
              "    <path d=\"M0 0h24v24H0V0z\" fill=\"none\"/>\n",
              "    <path d=\"M18.56 5.44l.94 2.06.94-2.06 2.06-.94-2.06-.94-.94-2.06-.94 2.06-2.06.94zm-11 1L8.5 8.5l.94-2.06 2.06-.94-2.06-.94L8.5 2.5l-.94 2.06-2.06.94zm10 10l.94 2.06.94-2.06 2.06-.94-2.06-.94-.94-2.06-.94 2.06-2.06.94z\"/><path d=\"M17.41 7.96l-1.37-1.37c-.4-.4-.92-.59-1.43-.59-.52 0-1.04.2-1.43.59L10.3 9.45l-7.72 7.72c-.78.78-.78 2.05 0 2.83L4 21.41c.39.39.9.59 1.41.59.51 0 1.02-.2 1.41-.59l7.78-7.78 2.81-2.81c.8-.78.8-2.07 0-2.86zM5.41 20L4 18.59l7.72-7.72 1.47 1.35L5.41 20z\"/>\n",
              "  </svg>\n",
              "      </button>\n",
              "      \n",
              "  <style>\n",
              "    .colab-df-container {\n",
              "      display:flex;\n",
              "      flex-wrap:wrap;\n",
              "      gap: 12px;\n",
              "    }\n",
              "\n",
              "    .colab-df-convert {\n",
              "      background-color: #E8F0FE;\n",
              "      border: none;\n",
              "      border-radius: 50%;\n",
              "      cursor: pointer;\n",
              "      display: none;\n",
              "      fill: #1967D2;\n",
              "      height: 32px;\n",
              "      padding: 0 0 0 0;\n",
              "      width: 32px;\n",
              "    }\n",
              "\n",
              "    .colab-df-convert:hover {\n",
              "      background-color: #E2EBFA;\n",
              "      box-shadow: 0px 1px 2px rgba(60, 64, 67, 0.3), 0px 1px 3px 1px rgba(60, 64, 67, 0.15);\n",
              "      fill: #174EA6;\n",
              "    }\n",
              "\n",
              "    [theme=dark] .colab-df-convert {\n",
              "      background-color: #3B4455;\n",
              "      fill: #D2E3FC;\n",
              "    }\n",
              "\n",
              "    [theme=dark] .colab-df-convert:hover {\n",
              "      background-color: #434B5C;\n",
              "      box-shadow: 0px 1px 3px 1px rgba(0, 0, 0, 0.15);\n",
              "      filter: drop-shadow(0px 1px 2px rgba(0, 0, 0, 0.3));\n",
              "      fill: #FFFFFF;\n",
              "    }\n",
              "  </style>\n",
              "\n",
              "      <script>\n",
              "        const buttonEl =\n",
              "          document.querySelector('#df-9415da49-9d11-4891-9568-60a9f504c211 button.colab-df-convert');\n",
              "        buttonEl.style.display =\n",
              "          google.colab.kernel.accessAllowed ? 'block' : 'none';\n",
              "\n",
              "        async function convertToInteractive(key) {\n",
              "          const element = document.querySelector('#df-9415da49-9d11-4891-9568-60a9f504c211');\n",
              "          const dataTable =\n",
              "            await google.colab.kernel.invokeFunction('convertToInteractive',\n",
              "                                                     [key], {});\n",
              "          if (!dataTable) return;\n",
              "\n",
              "          const docLinkHtml = 'Like what you see? Visit the ' +\n",
              "            '<a target=\"_blank\" href=https://colab.research.google.com/notebooks/data_table.ipynb>data table notebook</a>'\n",
              "            + ' to learn more about interactive tables.';\n",
              "          element.innerHTML = '';\n",
              "          dataTable['output_type'] = 'display_data';\n",
              "          await google.colab.output.renderOutput(dataTable, element);\n",
              "          const docLink = document.createElement('div');\n",
              "          docLink.innerHTML = docLinkHtml;\n",
              "          element.appendChild(docLink);\n",
              "        }\n",
              "      </script>\n",
              "    </div>\n",
              "  </div>\n",
              "  "
            ],
            "text/plain": [
              "     0    1  2\n",
              "0  119   20  0\n",
              "1   39  139  0\n",
              "2   43   25  9"
            ]
          },
          "execution_count": 40,
          "metadata": {},
          "output_type": "execute_result"
        }
      ],
      "source": [
        "matrix = confusion_matrix(y_test, pred)\n",
        "pd.DataFrame(matrix)"
      ]
    },
    {
      "cell_type": "markdown",
      "id": "0fc53fd9",
      "metadata": {
        "id": "0fc53fd9"
      },
      "source": [
        "Najlepszym parameterm w tym klasyfikatorze okazało się 7 sąsiadów. Trafność dla zbioru uczącego wynosi 0.75, natomiast dla testowego jest trochę gorsza i wynosi 0.68. Najgorszą trafnosć ma zbiór \"Other\", czyli dane nienależące do \"DC Comics\" oraz \"Marvel Comics\". Może to wynikać z tego, że ilość tych danych jest najmniejsza w porównaniu do dwóch pozostałych wydawnictw, a także z tego, że trafiają tam pomieszane dane z różnych wydawnictw. Widać również, że dane z tego zbioru najczęściej przypisywane były do \"DC Comics\", w którym ponownie jest najwięcej fałszywych pozytywów."
      ]
    },
    {
      "cell_type": "markdown",
      "id": "9f4f81fb",
      "metadata": {
        "id": "9f4f81fb"
      },
      "source": [
        "### Klasyfikacja z uwzględnieniem większej ilości danych"
      ]
    },
    {
      "cell_type": "code",
      "execution_count": null,
      "id": "74da71a1",
      "metadata": {
        "colab": {
          "base_uri": "https://localhost:8080/"
        },
        "id": "74da71a1",
        "outputId": "58e392a6-7012-4d8c-bb8d-17b855ae4f1a"
      },
      "outputs": [
        {
          "data": {
            "text/plain": [
              "KNeighborsClassifier(n_neighbors=4)"
            ]
          },
          "execution_count": 41,
          "metadata": {},
          "output_type": "execute_result"
        }
      ],
      "source": [
        "knn2 = KNeighborsClassifier(n_neighbors=4)\n",
        "knn2.fit(X_train2, y_train2)"
      ]
    },
    {
      "cell_type": "code",
      "execution_count": null,
      "id": "8b02e491",
      "metadata": {
        "colab": {
          "base_uri": "https://localhost:8080/"
        },
        "id": "8b02e491",
        "outputId": "1af31c59-226c-4fc4-b176-89ef1ac4838e"
      },
      "outputs": [
        {
          "data": {
            "text/plain": [
              "0.7241003271537623"
            ]
          },
          "execution_count": 42,
          "metadata": {},
          "output_type": "execute_result"
        }
      ],
      "source": [
        "knn2.score(X_train2, y_train2)"
      ]
    },
    {
      "cell_type": "code",
      "execution_count": null,
      "id": "29dfad4a",
      "metadata": {
        "colab": {
          "base_uri": "https://localhost:8080/"
        },
        "id": "29dfad4a",
        "outputId": "cd7ad2b1-7956-4367-cc33-eb874a59b254"
      },
      "outputs": [
        {
          "data": {
            "text/plain": [
              "0.6802030456852792"
            ]
          },
          "execution_count": 43,
          "metadata": {},
          "output_type": "execute_result"
        }
      ],
      "source": [
        "knn2.score(X_test2, y_test2)"
      ]
    },
    {
      "cell_type": "code",
      "execution_count": null,
      "id": "10c16f8e",
      "metadata": {
        "id": "10c16f8e"
      },
      "outputs": [],
      "source": [
        "pred = knn2.predict(X_test2)"
      ]
    },
    {
      "cell_type": "code",
      "execution_count": null,
      "id": "43f215e5",
      "metadata": {
        "colab": {
          "base_uri": "https://localhost:8080/"
        },
        "id": "43f215e5",
        "outputId": "f605f636-0276-424a-b0c4-b544b15fe2cc"
      },
      "outputs": [
        {
          "name": "stdout",
          "output_type": "stream",
          "text": [
            "               precision    recall  f1-score   support\n",
            "\n",
            "    DC Comics       0.67      0.72      0.69       139\n",
            "Marvel Comics       0.67      0.85      0.75       178\n",
            "        Other       0.89      0.22      0.35        77\n",
            "\n",
            "     accuracy                           0.68       394\n",
            "    macro avg       0.74      0.60      0.60       394\n",
            " weighted avg       0.71      0.68      0.65       394\n",
            "\n"
          ]
        }
      ],
      "source": [
        "print(metrics.classification_report(y_test2, pred, target_names=[\"DC Comics\" ,\"Marvel Comics\", \"Other\"]))"
      ]
    },
    {
      "cell_type": "code",
      "execution_count": null,
      "id": "41f88bc5",
      "metadata": {
        "colab": {
          "base_uri": "https://localhost:8080/",
          "height": 143
        },
        "id": "41f88bc5",
        "outputId": "24eeafdf-c390-42ad-d8e3-c5ecca4a6192"
      },
      "outputs": [
        {
          "data": {
            "text/html": [
              "\n",
              "  <div id=\"df-21289048-17ad-4603-894d-af68b80cb72e\">\n",
              "    <div class=\"colab-df-container\">\n",
              "      <div>\n",
              "<style scoped>\n",
              "    .dataframe tbody tr th:only-of-type {\n",
              "        vertical-align: middle;\n",
              "    }\n",
              "\n",
              "    .dataframe tbody tr th {\n",
              "        vertical-align: top;\n",
              "    }\n",
              "\n",
              "    .dataframe thead th {\n",
              "        text-align: right;\n",
              "    }\n",
              "</style>\n",
              "<table border=\"1\" class=\"dataframe\">\n",
              "  <thead>\n",
              "    <tr style=\"text-align: right;\">\n",
              "      <th></th>\n",
              "      <th>0</th>\n",
              "      <th>1</th>\n",
              "      <th>2</th>\n",
              "    </tr>\n",
              "  </thead>\n",
              "  <tbody>\n",
              "    <tr>\n",
              "      <th>0</th>\n",
              "      <td>100</td>\n",
              "      <td>38</td>\n",
              "      <td>1</td>\n",
              "    </tr>\n",
              "    <tr>\n",
              "      <th>1</th>\n",
              "      <td>26</td>\n",
              "      <td>151</td>\n",
              "      <td>1</td>\n",
              "    </tr>\n",
              "    <tr>\n",
              "      <th>2</th>\n",
              "      <td>23</td>\n",
              "      <td>37</td>\n",
              "      <td>17</td>\n",
              "    </tr>\n",
              "  </tbody>\n",
              "</table>\n",
              "</div>\n",
              "      <button class=\"colab-df-convert\" onclick=\"convertToInteractive('df-21289048-17ad-4603-894d-af68b80cb72e')\"\n",
              "              title=\"Convert this dataframe to an interactive table.\"\n",
              "              style=\"display:none;\">\n",
              "        \n",
              "  <svg xmlns=\"http://www.w3.org/2000/svg\" height=\"24px\"viewBox=\"0 0 24 24\"\n",
              "       width=\"24px\">\n",
              "    <path d=\"M0 0h24v24H0V0z\" fill=\"none\"/>\n",
              "    <path d=\"M18.56 5.44l.94 2.06.94-2.06 2.06-.94-2.06-.94-.94-2.06-.94 2.06-2.06.94zm-11 1L8.5 8.5l.94-2.06 2.06-.94-2.06-.94L8.5 2.5l-.94 2.06-2.06.94zm10 10l.94 2.06.94-2.06 2.06-.94-2.06-.94-.94-2.06-.94 2.06-2.06.94z\"/><path d=\"M17.41 7.96l-1.37-1.37c-.4-.4-.92-.59-1.43-.59-.52 0-1.04.2-1.43.59L10.3 9.45l-7.72 7.72c-.78.78-.78 2.05 0 2.83L4 21.41c.39.39.9.59 1.41.59.51 0 1.02-.2 1.41-.59l7.78-7.78 2.81-2.81c.8-.78.8-2.07 0-2.86zM5.41 20L4 18.59l7.72-7.72 1.47 1.35L5.41 20z\"/>\n",
              "  </svg>\n",
              "      </button>\n",
              "      \n",
              "  <style>\n",
              "    .colab-df-container {\n",
              "      display:flex;\n",
              "      flex-wrap:wrap;\n",
              "      gap: 12px;\n",
              "    }\n",
              "\n",
              "    .colab-df-convert {\n",
              "      background-color: #E8F0FE;\n",
              "      border: none;\n",
              "      border-radius: 50%;\n",
              "      cursor: pointer;\n",
              "      display: none;\n",
              "      fill: #1967D2;\n",
              "      height: 32px;\n",
              "      padding: 0 0 0 0;\n",
              "      width: 32px;\n",
              "    }\n",
              "\n",
              "    .colab-df-convert:hover {\n",
              "      background-color: #E2EBFA;\n",
              "      box-shadow: 0px 1px 2px rgba(60, 64, 67, 0.3), 0px 1px 3px 1px rgba(60, 64, 67, 0.15);\n",
              "      fill: #174EA6;\n",
              "    }\n",
              "\n",
              "    [theme=dark] .colab-df-convert {\n",
              "      background-color: #3B4455;\n",
              "      fill: #D2E3FC;\n",
              "    }\n",
              "\n",
              "    [theme=dark] .colab-df-convert:hover {\n",
              "      background-color: #434B5C;\n",
              "      box-shadow: 0px 1px 3px 1px rgba(0, 0, 0, 0.15);\n",
              "      filter: drop-shadow(0px 1px 2px rgba(0, 0, 0, 0.3));\n",
              "      fill: #FFFFFF;\n",
              "    }\n",
              "  </style>\n",
              "\n",
              "      <script>\n",
              "        const buttonEl =\n",
              "          document.querySelector('#df-21289048-17ad-4603-894d-af68b80cb72e button.colab-df-convert');\n",
              "        buttonEl.style.display =\n",
              "          google.colab.kernel.accessAllowed ? 'block' : 'none';\n",
              "\n",
              "        async function convertToInteractive(key) {\n",
              "          const element = document.querySelector('#df-21289048-17ad-4603-894d-af68b80cb72e');\n",
              "          const dataTable =\n",
              "            await google.colab.kernel.invokeFunction('convertToInteractive',\n",
              "                                                     [key], {});\n",
              "          if (!dataTable) return;\n",
              "\n",
              "          const docLinkHtml = 'Like what you see? Visit the ' +\n",
              "            '<a target=\"_blank\" href=https://colab.research.google.com/notebooks/data_table.ipynb>data table notebook</a>'\n",
              "            + ' to learn more about interactive tables.';\n",
              "          element.innerHTML = '';\n",
              "          dataTable['output_type'] = 'display_data';\n",
              "          await google.colab.output.renderOutput(dataTable, element);\n",
              "          const docLink = document.createElement('div');\n",
              "          docLink.innerHTML = docLinkHtml;\n",
              "          element.appendChild(docLink);\n",
              "        }\n",
              "      </script>\n",
              "    </div>\n",
              "  </div>\n",
              "  "
            ],
            "text/plain": [
              "     0    1   2\n",
              "0  100   38   1\n",
              "1   26  151   1\n",
              "2   23   37  17"
            ]
          },
          "execution_count": 46,
          "metadata": {},
          "output_type": "execute_result"
        }
      ],
      "source": [
        "matrix = confusion_matrix(y_test2, pred)\n",
        "pd.DataFrame(matrix)"
      ]
    },
    {
      "cell_type": "markdown",
      "id": "b7da10dc",
      "metadata": {
        "id": "b7da10dc"
      },
      "source": [
        "Przy uwzględineniu większej ilości danych najlepszym parametrem okazało się 4 sąsiadów. Trafność klasyfikatora pogorszyła się dla zbioru uczacego, a polepszyła dla zbioru testowego, jednakże bardzo nieznacznie. Dla zbioru uczącego wyniosła 0.72, a testowego 0.68."
      ]
    },
    {
      "cell_type": "markdown",
      "id": "a1ab3f41",
      "metadata": {
        "id": "a1ab3f41"
      },
      "source": [
        "# Nearest Centroid - Rocchio"
      ]
    },
    {
      "cell_type": "code",
      "execution_count": null,
      "id": "35002686",
      "metadata": {
        "id": "35002686"
      },
      "outputs": [],
      "source": [
        "from sklearn.neighbors import NearestCentroid"
      ]
    },
    {
      "cell_type": "code",
      "execution_count": null,
      "id": "0b4a1b1a",
      "metadata": {
        "id": "0b4a1b1a"
      },
      "outputs": [],
      "source": [
        "clf = NearestCentroid(metric='euclidean')"
      ]
    },
    {
      "cell_type": "code",
      "execution_count": null,
      "id": "5a91004d",
      "metadata": {
        "colab": {
          "base_uri": "https://localhost:8080/"
        },
        "id": "5a91004d",
        "outputId": "5b7417e9-e03a-4609-a199-596df553d394"
      },
      "outputs": [
        {
          "data": {
            "text/plain": [
              "NearestCentroid()"
            ]
          },
          "execution_count": 49,
          "metadata": {},
          "output_type": "execute_result"
        }
      ],
      "source": [
        "clf.fit(X_train, y_train)"
      ]
    },
    {
      "cell_type": "code",
      "execution_count": null,
      "id": "4be338f5",
      "metadata": {
        "colab": {
          "base_uri": "https://localhost:8080/"
        },
        "id": "4be338f5",
        "outputId": "71a6216f-1187-4755-acd5-39519316087f"
      },
      "outputs": [
        {
          "data": {
            "text/plain": [
              "0.6030534351145038"
            ]
          },
          "execution_count": 50,
          "metadata": {},
          "output_type": "execute_result"
        }
      ],
      "source": [
        "clf.score(X_train, y_train)"
      ]
    },
    {
      "cell_type": "code",
      "execution_count": null,
      "id": "2fe2f84f",
      "metadata": {
        "colab": {
          "base_uri": "https://localhost:8080/"
        },
        "id": "2fe2f84f",
        "outputId": "7817ce6d-b4fe-4ccf-88a0-72c32550cc61"
      },
      "outputs": [
        {
          "data": {
            "text/plain": [
              "0.5736040609137056"
            ]
          },
          "execution_count": 51,
          "metadata": {},
          "output_type": "execute_result"
        }
      ],
      "source": [
        "clf.score(X_test, y_test)"
      ]
    },
    {
      "cell_type": "code",
      "execution_count": null,
      "id": "084ffeef",
      "metadata": {
        "id": "084ffeef"
      },
      "outputs": [],
      "source": [
        "pred = clf.predict(X_test)"
      ]
    },
    {
      "cell_type": "code",
      "execution_count": null,
      "id": "06d52627",
      "metadata": {
        "colab": {
          "base_uri": "https://localhost:8080/"
        },
        "id": "06d52627",
        "outputId": "cb634490-b4e9-4361-8c96-c93d2ded370c"
      },
      "outputs": [
        {
          "name": "stdout",
          "output_type": "stream",
          "text": [
            "               precision    recall  f1-score   support\n",
            "\n",
            "    DC Comics       0.46      0.92      0.62       139\n",
            "Marvel Comics       0.84      0.54      0.66       178\n",
            "        Other       0.67      0.03      0.05        77\n",
            "\n",
            "     accuracy                           0.57       394\n",
            "    macro avg       0.66      0.50      0.44       394\n",
            " weighted avg       0.67      0.57      0.52       394\n",
            "\n"
          ]
        }
      ],
      "source": [
        "print(metrics.classification_report(y_test, pred, target_names=[\"DC Comics\" ,\"Marvel Comics\", \"Other\"]))"
      ]
    },
    {
      "cell_type": "code",
      "execution_count": null,
      "id": "1682aabf",
      "metadata": {
        "colab": {
          "base_uri": "https://localhost:8080/",
          "height": 143
        },
        "id": "1682aabf",
        "outputId": "2913e68b-b6c4-4489-ff15-5263ceaece0e"
      },
      "outputs": [
        {
          "data": {
            "text/html": [
              "\n",
              "  <div id=\"df-86ea6da5-71c8-4865-941d-dc03b4834fc4\">\n",
              "    <div class=\"colab-df-container\">\n",
              "      <div>\n",
              "<style scoped>\n",
              "    .dataframe tbody tr th:only-of-type {\n",
              "        vertical-align: middle;\n",
              "    }\n",
              "\n",
              "    .dataframe tbody tr th {\n",
              "        vertical-align: top;\n",
              "    }\n",
              "\n",
              "    .dataframe thead th {\n",
              "        text-align: right;\n",
              "    }\n",
              "</style>\n",
              "<table border=\"1\" class=\"dataframe\">\n",
              "  <thead>\n",
              "    <tr style=\"text-align: right;\">\n",
              "      <th></th>\n",
              "      <th>0</th>\n",
              "      <th>1</th>\n",
              "      <th>2</th>\n",
              "    </tr>\n",
              "  </thead>\n",
              "  <tbody>\n",
              "    <tr>\n",
              "      <th>0</th>\n",
              "      <td>128</td>\n",
              "      <td>11</td>\n",
              "      <td>0</td>\n",
              "    </tr>\n",
              "    <tr>\n",
              "      <th>1</th>\n",
              "      <td>81</td>\n",
              "      <td>96</td>\n",
              "      <td>1</td>\n",
              "    </tr>\n",
              "    <tr>\n",
              "      <th>2</th>\n",
              "      <td>68</td>\n",
              "      <td>7</td>\n",
              "      <td>2</td>\n",
              "    </tr>\n",
              "  </tbody>\n",
              "</table>\n",
              "</div>\n",
              "      <button class=\"colab-df-convert\" onclick=\"convertToInteractive('df-86ea6da5-71c8-4865-941d-dc03b4834fc4')\"\n",
              "              title=\"Convert this dataframe to an interactive table.\"\n",
              "              style=\"display:none;\">\n",
              "        \n",
              "  <svg xmlns=\"http://www.w3.org/2000/svg\" height=\"24px\"viewBox=\"0 0 24 24\"\n",
              "       width=\"24px\">\n",
              "    <path d=\"M0 0h24v24H0V0z\" fill=\"none\"/>\n",
              "    <path d=\"M18.56 5.44l.94 2.06.94-2.06 2.06-.94-2.06-.94-.94-2.06-.94 2.06-2.06.94zm-11 1L8.5 8.5l.94-2.06 2.06-.94-2.06-.94L8.5 2.5l-.94 2.06-2.06.94zm10 10l.94 2.06.94-2.06 2.06-.94-2.06-.94-.94-2.06-.94 2.06-2.06.94z\"/><path d=\"M17.41 7.96l-1.37-1.37c-.4-.4-.92-.59-1.43-.59-.52 0-1.04.2-1.43.59L10.3 9.45l-7.72 7.72c-.78.78-.78 2.05 0 2.83L4 21.41c.39.39.9.59 1.41.59.51 0 1.02-.2 1.41-.59l7.78-7.78 2.81-2.81c.8-.78.8-2.07 0-2.86zM5.41 20L4 18.59l7.72-7.72 1.47 1.35L5.41 20z\"/>\n",
              "  </svg>\n",
              "      </button>\n",
              "      \n",
              "  <style>\n",
              "    .colab-df-container {\n",
              "      display:flex;\n",
              "      flex-wrap:wrap;\n",
              "      gap: 12px;\n",
              "    }\n",
              "\n",
              "    .colab-df-convert {\n",
              "      background-color: #E8F0FE;\n",
              "      border: none;\n",
              "      border-radius: 50%;\n",
              "      cursor: pointer;\n",
              "      display: none;\n",
              "      fill: #1967D2;\n",
              "      height: 32px;\n",
              "      padding: 0 0 0 0;\n",
              "      width: 32px;\n",
              "    }\n",
              "\n",
              "    .colab-df-convert:hover {\n",
              "      background-color: #E2EBFA;\n",
              "      box-shadow: 0px 1px 2px rgba(60, 64, 67, 0.3), 0px 1px 3px 1px rgba(60, 64, 67, 0.15);\n",
              "      fill: #174EA6;\n",
              "    }\n",
              "\n",
              "    [theme=dark] .colab-df-convert {\n",
              "      background-color: #3B4455;\n",
              "      fill: #D2E3FC;\n",
              "    }\n",
              "\n",
              "    [theme=dark] .colab-df-convert:hover {\n",
              "      background-color: #434B5C;\n",
              "      box-shadow: 0px 1px 3px 1px rgba(0, 0, 0, 0.15);\n",
              "      filter: drop-shadow(0px 1px 2px rgba(0, 0, 0, 0.3));\n",
              "      fill: #FFFFFF;\n",
              "    }\n",
              "  </style>\n",
              "\n",
              "      <script>\n",
              "        const buttonEl =\n",
              "          document.querySelector('#df-86ea6da5-71c8-4865-941d-dc03b4834fc4 button.colab-df-convert');\n",
              "        buttonEl.style.display =\n",
              "          google.colab.kernel.accessAllowed ? 'block' : 'none';\n",
              "\n",
              "        async function convertToInteractive(key) {\n",
              "          const element = document.querySelector('#df-86ea6da5-71c8-4865-941d-dc03b4834fc4');\n",
              "          const dataTable =\n",
              "            await google.colab.kernel.invokeFunction('convertToInteractive',\n",
              "                                                     [key], {});\n",
              "          if (!dataTable) return;\n",
              "\n",
              "          const docLinkHtml = 'Like what you see? Visit the ' +\n",
              "            '<a target=\"_blank\" href=https://colab.research.google.com/notebooks/data_table.ipynb>data table notebook</a>'\n",
              "            + ' to learn more about interactive tables.';\n",
              "          element.innerHTML = '';\n",
              "          dataTable['output_type'] = 'display_data';\n",
              "          await google.colab.output.renderOutput(dataTable, element);\n",
              "          const docLink = document.createElement('div');\n",
              "          docLink.innerHTML = docLinkHtml;\n",
              "          element.appendChild(docLink);\n",
              "        }\n",
              "      </script>\n",
              "    </div>\n",
              "  </div>\n",
              "  "
            ],
            "text/plain": [
              "     0   1  2\n",
              "0  128  11  0\n",
              "1   81  96  1\n",
              "2   68   7  2"
            ]
          },
          "execution_count": 54,
          "metadata": {},
          "output_type": "execute_result"
        }
      ],
      "source": [
        "matrix = confusion_matrix(y_test, pred)\n",
        "pd.DataFrame(matrix)"
      ]
    },
    {
      "cell_type": "markdown",
      "id": "2491c1f7",
      "metadata": {
        "id": "2491c1f7"
      },
      "source": [
        "Najlepsze wyniki klasyfikacji dawało wykorzystanie standardowej odległości euklidesowej. Klasyfikator Nearest Centroid okazał się najgorszym wykorzystanym do tej pory klasyfikatorem. Wyniki, które zostały uzyskane (trafność dla zbioru uczącego = 0.60, a dla testowego = 0.57) raczej są niezadowalające. Klasyfikator ten zupełnie nie poradził sobie z klasyfikacją dla zbioru \"Other\". Do zbioru \"DC Comics\" ponownie trafiło najwięcej fałszywych pozytywów."
      ]
    },
    {
      "cell_type": "markdown",
      "id": "b5355aac",
      "metadata": {
        "id": "b5355aac"
      },
      "source": [
        "### Dla większej ilości danych"
      ]
    },
    {
      "cell_type": "code",
      "execution_count": null,
      "id": "4a0a8888",
      "metadata": {
        "id": "4a0a8888"
      },
      "outputs": [],
      "source": [
        "clf2 = NearestCentroid()"
      ]
    },
    {
      "cell_type": "code",
      "execution_count": null,
      "id": "8775d01b",
      "metadata": {
        "colab": {
          "base_uri": "https://localhost:8080/"
        },
        "id": "8775d01b",
        "outputId": "69d2322b-cdc8-4d95-987b-05ed873890ad"
      },
      "outputs": [
        {
          "data": {
            "text/plain": [
              "NearestCentroid()"
            ]
          },
          "execution_count": 56,
          "metadata": {},
          "output_type": "execute_result"
        }
      ],
      "source": [
        "clf2.fit(X_train2, y_train2)"
      ]
    },
    {
      "cell_type": "code",
      "execution_count": null,
      "id": "0ae9a8c6",
      "metadata": {
        "colab": {
          "base_uri": "https://localhost:8080/"
        },
        "id": "0ae9a8c6",
        "outputId": "24f66c73-026c-4758-a673-2c5b67e025c3"
      },
      "outputs": [
        {
          "data": {
            "text/plain": [
              "0.613958560523446"
            ]
          },
          "execution_count": 57,
          "metadata": {},
          "output_type": "execute_result"
        }
      ],
      "source": [
        "clf2.score(X_train2, y_train2)"
      ]
    },
    {
      "cell_type": "code",
      "execution_count": null,
      "id": "71f668ee",
      "metadata": {
        "colab": {
          "base_uri": "https://localhost:8080/"
        },
        "id": "71f668ee",
        "outputId": "18c89b59-6157-448f-c19f-69929c5a13ba"
      },
      "outputs": [
        {
          "data": {
            "text/plain": [
              "0.5939086294416244"
            ]
          },
          "execution_count": 58,
          "metadata": {},
          "output_type": "execute_result"
        }
      ],
      "source": [
        "clf2.score(X_test2, y_test2)"
      ]
    },
    {
      "cell_type": "code",
      "execution_count": null,
      "id": "5a98ff39",
      "metadata": {
        "id": "5a98ff39"
      },
      "outputs": [],
      "source": [
        "pred = clf2.predict(X_test2)"
      ]
    },
    {
      "cell_type": "code",
      "execution_count": null,
      "id": "d3aa7bd7",
      "metadata": {
        "colab": {
          "base_uri": "https://localhost:8080/"
        },
        "id": "d3aa7bd7",
        "outputId": "3c89dd12-9bfd-4669-b60d-9749305b8780"
      },
      "outputs": [
        {
          "name": "stdout",
          "output_type": "stream",
          "text": [
            "               precision    recall  f1-score   support\n",
            "\n",
            "    DC Comics       0.48      0.95      0.64       139\n",
            "Marvel Comics       0.87      0.56      0.68       178\n",
            "        Other       0.60      0.04      0.07        77\n",
            "\n",
            "     accuracy                           0.59       394\n",
            "    macro avg       0.65      0.51      0.46       394\n",
            " weighted avg       0.68      0.59      0.55       394\n",
            "\n"
          ]
        }
      ],
      "source": [
        "print(metrics.classification_report(y_test2, pred, target_names=[\"DC Comics\" ,\"Marvel Comics\", \"Other\"]))"
      ]
    },
    {
      "cell_type": "code",
      "execution_count": null,
      "id": "1d1c37fc",
      "metadata": {
        "colab": {
          "base_uri": "https://localhost:8080/",
          "height": 143
        },
        "id": "1d1c37fc",
        "outputId": "3333aadd-b3c9-40c9-ddbd-64da3c5260d5"
      },
      "outputs": [
        {
          "data": {
            "text/html": [
              "\n",
              "  <div id=\"df-da01fed3-d09c-4069-8612-706eeb7c7ca6\">\n",
              "    <div class=\"colab-df-container\">\n",
              "      <div>\n",
              "<style scoped>\n",
              "    .dataframe tbody tr th:only-of-type {\n",
              "        vertical-align: middle;\n",
              "    }\n",
              "\n",
              "    .dataframe tbody tr th {\n",
              "        vertical-align: top;\n",
              "    }\n",
              "\n",
              "    .dataframe thead th {\n",
              "        text-align: right;\n",
              "    }\n",
              "</style>\n",
              "<table border=\"1\" class=\"dataframe\">\n",
              "  <thead>\n",
              "    <tr style=\"text-align: right;\">\n",
              "      <th></th>\n",
              "      <th>0</th>\n",
              "      <th>1</th>\n",
              "      <th>2</th>\n",
              "    </tr>\n",
              "  </thead>\n",
              "  <tbody>\n",
              "    <tr>\n",
              "      <th>0</th>\n",
              "      <td>132</td>\n",
              "      <td>7</td>\n",
              "      <td>0</td>\n",
              "    </tr>\n",
              "    <tr>\n",
              "      <th>1</th>\n",
              "      <td>77</td>\n",
              "      <td>99</td>\n",
              "      <td>2</td>\n",
              "    </tr>\n",
              "    <tr>\n",
              "      <th>2</th>\n",
              "      <td>66</td>\n",
              "      <td>8</td>\n",
              "      <td>3</td>\n",
              "    </tr>\n",
              "  </tbody>\n",
              "</table>\n",
              "</div>\n",
              "      <button class=\"colab-df-convert\" onclick=\"convertToInteractive('df-da01fed3-d09c-4069-8612-706eeb7c7ca6')\"\n",
              "              title=\"Convert this dataframe to an interactive table.\"\n",
              "              style=\"display:none;\">\n",
              "        \n",
              "  <svg xmlns=\"http://www.w3.org/2000/svg\" height=\"24px\"viewBox=\"0 0 24 24\"\n",
              "       width=\"24px\">\n",
              "    <path d=\"M0 0h24v24H0V0z\" fill=\"none\"/>\n",
              "    <path d=\"M18.56 5.44l.94 2.06.94-2.06 2.06-.94-2.06-.94-.94-2.06-.94 2.06-2.06.94zm-11 1L8.5 8.5l.94-2.06 2.06-.94-2.06-.94L8.5 2.5l-.94 2.06-2.06.94zm10 10l.94 2.06.94-2.06 2.06-.94-2.06-.94-.94-2.06-.94 2.06-2.06.94z\"/><path d=\"M17.41 7.96l-1.37-1.37c-.4-.4-.92-.59-1.43-.59-.52 0-1.04.2-1.43.59L10.3 9.45l-7.72 7.72c-.78.78-.78 2.05 0 2.83L4 21.41c.39.39.9.59 1.41.59.51 0 1.02-.2 1.41-.59l7.78-7.78 2.81-2.81c.8-.78.8-2.07 0-2.86zM5.41 20L4 18.59l7.72-7.72 1.47 1.35L5.41 20z\"/>\n",
              "  </svg>\n",
              "      </button>\n",
              "      \n",
              "  <style>\n",
              "    .colab-df-container {\n",
              "      display:flex;\n",
              "      flex-wrap:wrap;\n",
              "      gap: 12px;\n",
              "    }\n",
              "\n",
              "    .colab-df-convert {\n",
              "      background-color: #E8F0FE;\n",
              "      border: none;\n",
              "      border-radius: 50%;\n",
              "      cursor: pointer;\n",
              "      display: none;\n",
              "      fill: #1967D2;\n",
              "      height: 32px;\n",
              "      padding: 0 0 0 0;\n",
              "      width: 32px;\n",
              "    }\n",
              "\n",
              "    .colab-df-convert:hover {\n",
              "      background-color: #E2EBFA;\n",
              "      box-shadow: 0px 1px 2px rgba(60, 64, 67, 0.3), 0px 1px 3px 1px rgba(60, 64, 67, 0.15);\n",
              "      fill: #174EA6;\n",
              "    }\n",
              "\n",
              "    [theme=dark] .colab-df-convert {\n",
              "      background-color: #3B4455;\n",
              "      fill: #D2E3FC;\n",
              "    }\n",
              "\n",
              "    [theme=dark] .colab-df-convert:hover {\n",
              "      background-color: #434B5C;\n",
              "      box-shadow: 0px 1px 3px 1px rgba(0, 0, 0, 0.15);\n",
              "      filter: drop-shadow(0px 1px 2px rgba(0, 0, 0, 0.3));\n",
              "      fill: #FFFFFF;\n",
              "    }\n",
              "  </style>\n",
              "\n",
              "      <script>\n",
              "        const buttonEl =\n",
              "          document.querySelector('#df-da01fed3-d09c-4069-8612-706eeb7c7ca6 button.colab-df-convert');\n",
              "        buttonEl.style.display =\n",
              "          google.colab.kernel.accessAllowed ? 'block' : 'none';\n",
              "\n",
              "        async function convertToInteractive(key) {\n",
              "          const element = document.querySelector('#df-da01fed3-d09c-4069-8612-706eeb7c7ca6');\n",
              "          const dataTable =\n",
              "            await google.colab.kernel.invokeFunction('convertToInteractive',\n",
              "                                                     [key], {});\n",
              "          if (!dataTable) return;\n",
              "\n",
              "          const docLinkHtml = 'Like what you see? Visit the ' +\n",
              "            '<a target=\"_blank\" href=https://colab.research.google.com/notebooks/data_table.ipynb>data table notebook</a>'\n",
              "            + ' to learn more about interactive tables.';\n",
              "          element.innerHTML = '';\n",
              "          dataTable['output_type'] = 'display_data';\n",
              "          await google.colab.output.renderOutput(dataTable, element);\n",
              "          const docLink = document.createElement('div');\n",
              "          docLink.innerHTML = docLinkHtml;\n",
              "          element.appendChild(docLink);\n",
              "        }\n",
              "      </script>\n",
              "    </div>\n",
              "  </div>\n",
              "  "
            ],
            "text/plain": [
              "     0   1  2\n",
              "0  132   7  0\n",
              "1   77  99  2\n",
              "2   66   8  3"
            ]
          },
          "execution_count": 61,
          "metadata": {},
          "output_type": "execute_result"
        }
      ],
      "source": [
        "matrix = confusion_matrix(y_test2, pred)\n",
        "pd.DataFrame(matrix)"
      ]
    },
    {
      "cell_type": "markdown",
      "id": "4aa71c71",
      "metadata": {
        "id": "4aa71c71"
      },
      "source": [
        "Przy wykorzystaniu większej ilości danych wyniki nieznacznie się polepszyły, jednak dalej wypadają znacząco gorzej na tle poprzednich klasyfikatorów."
      ]
    },
    {
      "cell_type": "markdown",
      "id": "9b2a576d",
      "metadata": {
        "id": "9b2a576d"
      },
      "source": [
        "# LinearSVC"
      ]
    },
    {
      "cell_type": "code",
      "execution_count": null,
      "id": "53f192cf",
      "metadata": {
        "id": "53f192cf"
      },
      "outputs": [],
      "source": [
        " from sklearn.svm import LinearSVC"
      ]
    },
    {
      "cell_type": "code",
      "execution_count": null,
      "id": "48238559",
      "metadata": {
        "id": "48238559"
      },
      "outputs": [],
      "source": [
        "lin = LinearSVC(penalty='l1', loss='squared_hinge', dual=False, tol=0.0001, C=1.0, multi_class='ovr', fit_intercept=True, intercept_scaling=1, class_weight=None, verbose=0, max_iter=1000, random_state=None)"
      ]
    },
    {
      "cell_type": "code",
      "execution_count": null,
      "id": "656299a4",
      "metadata": {
        "id": "656299a4"
      },
      "outputs": [],
      "source": [
        "lin.fit(X_train, y_train)"
      ]
    },
    {
      "cell_type": "code",
      "execution_count": null,
      "id": "c2286b62",
      "metadata": {
        "colab": {
          "base_uri": "https://localhost:8080/"
        },
        "id": "c2286b62",
        "outputId": "6082b6bd-1900-40f1-b2af-481edf8ed3a6"
      },
      "outputs": [
        {
          "data": {
            "text/plain": [
              "1.0"
            ]
          },
          "execution_count": 65,
          "metadata": {},
          "output_type": "execute_result"
        }
      ],
      "source": [
        "lin.score(X_train, y_train)"
      ]
    },
    {
      "cell_type": "code",
      "execution_count": null,
      "id": "482d0112",
      "metadata": {
        "colab": {
          "base_uri": "https://localhost:8080/"
        },
        "id": "482d0112",
        "outputId": "f2365558-cfed-4f99-e5e1-d71eb9e7bf5d"
      },
      "outputs": [
        {
          "data": {
            "text/plain": [
              "0.7741116751269036"
            ]
          },
          "execution_count": 66,
          "metadata": {},
          "output_type": "execute_result"
        }
      ],
      "source": [
        "lin.score(X_test, y_test)"
      ]
    },
    {
      "cell_type": "code",
      "execution_count": null,
      "id": "0843ea80",
      "metadata": {
        "id": "0843ea80"
      },
      "outputs": [],
      "source": [
        "pred = lin.predict(X_test)"
      ]
    },
    {
      "cell_type": "code",
      "execution_count": null,
      "id": "ef6aa124",
      "metadata": {
        "colab": {
          "base_uri": "https://localhost:8080/"
        },
        "id": "ef6aa124",
        "outputId": "890a18e3-0729-4e32-c916-eb518b5772c0"
      },
      "outputs": [
        {
          "name": "stdout",
          "output_type": "stream",
          "text": [
            "               precision    recall  f1-score   support\n",
            "\n",
            "    DC Comics       0.79      0.71      0.75       139\n",
            "Marvel Comics       0.78      0.89      0.83       178\n",
            "        Other       0.73      0.62      0.67        77\n",
            "\n",
            "     accuracy                           0.77       394\n",
            "    macro avg       0.77      0.74      0.75       394\n",
            " weighted avg       0.77      0.77      0.77       394\n",
            "\n"
          ]
        }
      ],
      "source": [
        "print(metrics.classification_report(y_test, pred, target_names=[\"DC Comics\" ,\"Marvel Comics\", \"Other\"]))"
      ]
    },
    {
      "cell_type": "code",
      "execution_count": null,
      "id": "7b02e9c1",
      "metadata": {
        "colab": {
          "base_uri": "https://localhost:8080/",
          "height": 143
        },
        "id": "7b02e9c1",
        "outputId": "b8dd5bfe-f30d-47e1-97b4-4f4cfd5fcf68"
      },
      "outputs": [
        {
          "data": {
            "text/html": [
              "\n",
              "  <div id=\"df-de882711-db11-487b-b5dd-cb4b538fac64\">\n",
              "    <div class=\"colab-df-container\">\n",
              "      <div>\n",
              "<style scoped>\n",
              "    .dataframe tbody tr th:only-of-type {\n",
              "        vertical-align: middle;\n",
              "    }\n",
              "\n",
              "    .dataframe tbody tr th {\n",
              "        vertical-align: top;\n",
              "    }\n",
              "\n",
              "    .dataframe thead th {\n",
              "        text-align: right;\n",
              "    }\n",
              "</style>\n",
              "<table border=\"1\" class=\"dataframe\">\n",
              "  <thead>\n",
              "    <tr style=\"text-align: right;\">\n",
              "      <th></th>\n",
              "      <th>0</th>\n",
              "      <th>1</th>\n",
              "      <th>2</th>\n",
              "    </tr>\n",
              "  </thead>\n",
              "  <tbody>\n",
              "    <tr>\n",
              "      <th>0</th>\n",
              "      <td>99</td>\n",
              "      <td>29</td>\n",
              "      <td>11</td>\n",
              "    </tr>\n",
              "    <tr>\n",
              "      <th>1</th>\n",
              "      <td>13</td>\n",
              "      <td>158</td>\n",
              "      <td>7</td>\n",
              "    </tr>\n",
              "    <tr>\n",
              "      <th>2</th>\n",
              "      <td>14</td>\n",
              "      <td>15</td>\n",
              "      <td>48</td>\n",
              "    </tr>\n",
              "  </tbody>\n",
              "</table>\n",
              "</div>\n",
              "      <button class=\"colab-df-convert\" onclick=\"convertToInteractive('df-de882711-db11-487b-b5dd-cb4b538fac64')\"\n",
              "              title=\"Convert this dataframe to an interactive table.\"\n",
              "              style=\"display:none;\">\n",
              "        \n",
              "  <svg xmlns=\"http://www.w3.org/2000/svg\" height=\"24px\"viewBox=\"0 0 24 24\"\n",
              "       width=\"24px\">\n",
              "    <path d=\"M0 0h24v24H0V0z\" fill=\"none\"/>\n",
              "    <path d=\"M18.56 5.44l.94 2.06.94-2.06 2.06-.94-2.06-.94-.94-2.06-.94 2.06-2.06.94zm-11 1L8.5 8.5l.94-2.06 2.06-.94-2.06-.94L8.5 2.5l-.94 2.06-2.06.94zm10 10l.94 2.06.94-2.06 2.06-.94-2.06-.94-.94-2.06-.94 2.06-2.06.94z\"/><path d=\"M17.41 7.96l-1.37-1.37c-.4-.4-.92-.59-1.43-.59-.52 0-1.04.2-1.43.59L10.3 9.45l-7.72 7.72c-.78.78-.78 2.05 0 2.83L4 21.41c.39.39.9.59 1.41.59.51 0 1.02-.2 1.41-.59l7.78-7.78 2.81-2.81c.8-.78.8-2.07 0-2.86zM5.41 20L4 18.59l7.72-7.72 1.47 1.35L5.41 20z\"/>\n",
              "  </svg>\n",
              "      </button>\n",
              "      \n",
              "  <style>\n",
              "    .colab-df-container {\n",
              "      display:flex;\n",
              "      flex-wrap:wrap;\n",
              "      gap: 12px;\n",
              "    }\n",
              "\n",
              "    .colab-df-convert {\n",
              "      background-color: #E8F0FE;\n",
              "      border: none;\n",
              "      border-radius: 50%;\n",
              "      cursor: pointer;\n",
              "      display: none;\n",
              "      fill: #1967D2;\n",
              "      height: 32px;\n",
              "      padding: 0 0 0 0;\n",
              "      width: 32px;\n",
              "    }\n",
              "\n",
              "    .colab-df-convert:hover {\n",
              "      background-color: #E2EBFA;\n",
              "      box-shadow: 0px 1px 2px rgba(60, 64, 67, 0.3), 0px 1px 3px 1px rgba(60, 64, 67, 0.15);\n",
              "      fill: #174EA6;\n",
              "    }\n",
              "\n",
              "    [theme=dark] .colab-df-convert {\n",
              "      background-color: #3B4455;\n",
              "      fill: #D2E3FC;\n",
              "    }\n",
              "\n",
              "    [theme=dark] .colab-df-convert:hover {\n",
              "      background-color: #434B5C;\n",
              "      box-shadow: 0px 1px 3px 1px rgba(0, 0, 0, 0.15);\n",
              "      filter: drop-shadow(0px 1px 2px rgba(0, 0, 0, 0.3));\n",
              "      fill: #FFFFFF;\n",
              "    }\n",
              "  </style>\n",
              "\n",
              "      <script>\n",
              "        const buttonEl =\n",
              "          document.querySelector('#df-de882711-db11-487b-b5dd-cb4b538fac64 button.colab-df-convert');\n",
              "        buttonEl.style.display =\n",
              "          google.colab.kernel.accessAllowed ? 'block' : 'none';\n",
              "\n",
              "        async function convertToInteractive(key) {\n",
              "          const element = document.querySelector('#df-de882711-db11-487b-b5dd-cb4b538fac64');\n",
              "          const dataTable =\n",
              "            await google.colab.kernel.invokeFunction('convertToInteractive',\n",
              "                                                     [key], {});\n",
              "          if (!dataTable) return;\n",
              "\n",
              "          const docLinkHtml = 'Like what you see? Visit the ' +\n",
              "            '<a target=\"_blank\" href=https://colab.research.google.com/notebooks/data_table.ipynb>data table notebook</a>'\n",
              "            + ' to learn more about interactive tables.';\n",
              "          element.innerHTML = '';\n",
              "          dataTable['output_type'] = 'display_data';\n",
              "          await google.colab.output.renderOutput(dataTable, element);\n",
              "          const docLink = document.createElement('div');\n",
              "          docLink.innerHTML = docLinkHtml;\n",
              "          element.appendChild(docLink);\n",
              "        }\n",
              "      </script>\n",
              "    </div>\n",
              "  </div>\n",
              "  "
            ],
            "text/plain": [
              "    0    1   2\n",
              "0  99   29  11\n",
              "1  13  158   7\n",
              "2  14   15  48"
            ]
          },
          "execution_count": 69,
          "metadata": {},
          "output_type": "execute_result"
        }
      ],
      "source": [
        "matrix = confusion_matrix(y_test, pred)\n",
        "pd.DataFrame(matrix)"
      ]
    },
    {
      "cell_type": "markdown",
      "id": "hgAVLxK7K0h2",
      "metadata": {
        "id": "hgAVLxK7K0h2"
      },
      "source": [
        "Dla przyjętych parametrow liniowego klasyfikatora SVM trafność dla próby uczącej wyniosła 1, co jest idelanym wynikiem. Jednakże, dla próby testowej trafność jest gorsza i wynosi 0.77. Prezycja dla każdej z grup jest na zbliżonym poziomie. Żadna z grup nie ma szczególnie dużej ilości fałszywych pozytyów."
      ]
    },
    {
      "cell_type": "markdown",
      "id": "9051baf5",
      "metadata": {
        "id": "9051baf5"
      },
      "source": [
        "### Klasyfikacja z uwzględnieniem większej ilości danych"
      ]
    },
    {
      "cell_type": "code",
      "execution_count": null,
      "id": "d5db7906",
      "metadata": {
        "id": "d5db7906"
      },
      "outputs": [],
      "source": [
        "lin2 = LinearSVC(penalty='l2', loss='hinge', dual=True, tol=0.0001, C=8.0, multi_class='crammer_singer', fit_intercept=True, intercept_scaling=1, class_weight=None, verbose=0, max_iter=10, random_state=None)"
      ]
    },
    {
      "cell_type": "code",
      "execution_count": null,
      "id": "0f8f6a19",
      "metadata": {
        "id": "0f8f6a19"
      },
      "outputs": [],
      "source": [
        "lin2.fit(X_train2, y_train2)"
      ]
    },
    {
      "cell_type": "code",
      "execution_count": null,
      "id": "776ec305",
      "metadata": {
        "colab": {
          "base_uri": "https://localhost:8080/"
        },
        "id": "776ec305",
        "outputId": "494117c0-6edb-4484-d051-659886d8bc08"
      },
      "outputs": [
        {
          "data": {
            "text/plain": [
              "1.0"
            ]
          },
          "execution_count": 75,
          "metadata": {},
          "output_type": "execute_result"
        }
      ],
      "source": [
        "lin2.score(X_train2, y_train2)"
      ]
    },
    {
      "cell_type": "code",
      "execution_count": null,
      "id": "7a269fc9",
      "metadata": {
        "colab": {
          "base_uri": "https://localhost:8080/"
        },
        "id": "7a269fc9",
        "outputId": "861d6201-001a-4c94-b489-ab6c46753f2b"
      },
      "outputs": [
        {
          "data": {
            "text/plain": [
              "0.8147208121827412"
            ]
          },
          "execution_count": 76,
          "metadata": {},
          "output_type": "execute_result"
        }
      ],
      "source": [
        "lin2.score(X_test2, y_test2)"
      ]
    },
    {
      "cell_type": "code",
      "execution_count": null,
      "id": "KADfi0pWJpOW",
      "metadata": {
        "id": "KADfi0pWJpOW"
      },
      "outputs": [],
      "source": [
        "pred = lin2.predict(X_test2)"
      ]
    },
    {
      "cell_type": "code",
      "execution_count": null,
      "id": "mrjHHfkEJ-0z",
      "metadata": {
        "colab": {
          "base_uri": "https://localhost:8080/"
        },
        "id": "mrjHHfkEJ-0z",
        "outputId": "a1b15bd4-a3d3-400c-e3f1-d4ff9d75e307"
      },
      "outputs": [
        {
          "name": "stdout",
          "output_type": "stream",
          "text": [
            "               precision    recall  f1-score   support\n",
            "\n",
            "    DC Comics       0.81      0.81      0.81       139\n",
            "Marvel Comics       0.85      0.89      0.87       178\n",
            "        Other       0.71      0.65      0.68        77\n",
            "\n",
            "     accuracy                           0.81       394\n",
            "    macro avg       0.79      0.78      0.79       394\n",
            " weighted avg       0.81      0.81      0.81       394\n",
            "\n"
          ]
        }
      ],
      "source": [
        "print(metrics.classification_report(y_test2, pred, target_names=[\"DC Comics\" ,\"Marvel Comics\", \"Other\"]))"
      ]
    },
    {
      "cell_type": "code",
      "execution_count": null,
      "id": "ry-taoNTKdc7",
      "metadata": {
        "colab": {
          "base_uri": "https://localhost:8080/",
          "height": 143
        },
        "id": "ry-taoNTKdc7",
        "outputId": "9416fc8f-a895-4d8f-f510-08b05ab8e4ee"
      },
      "outputs": [
        {
          "data": {
            "text/html": [
              "\n",
              "  <div id=\"df-bd161d8c-6384-4727-8d41-587e282b06ec\">\n",
              "    <div class=\"colab-df-container\">\n",
              "      <div>\n",
              "<style scoped>\n",
              "    .dataframe tbody tr th:only-of-type {\n",
              "        vertical-align: middle;\n",
              "    }\n",
              "\n",
              "    .dataframe tbody tr th {\n",
              "        vertical-align: top;\n",
              "    }\n",
              "\n",
              "    .dataframe thead th {\n",
              "        text-align: right;\n",
              "    }\n",
              "</style>\n",
              "<table border=\"1\" class=\"dataframe\">\n",
              "  <thead>\n",
              "    <tr style=\"text-align: right;\">\n",
              "      <th></th>\n",
              "      <th>0</th>\n",
              "      <th>1</th>\n",
              "      <th>2</th>\n",
              "    </tr>\n",
              "  </thead>\n",
              "  <tbody>\n",
              "    <tr>\n",
              "      <th>0</th>\n",
              "      <td>112</td>\n",
              "      <td>15</td>\n",
              "      <td>12</td>\n",
              "    </tr>\n",
              "    <tr>\n",
              "      <th>1</th>\n",
              "      <td>11</td>\n",
              "      <td>159</td>\n",
              "      <td>8</td>\n",
              "    </tr>\n",
              "    <tr>\n",
              "      <th>2</th>\n",
              "      <td>15</td>\n",
              "      <td>12</td>\n",
              "      <td>50</td>\n",
              "    </tr>\n",
              "  </tbody>\n",
              "</table>\n",
              "</div>\n",
              "      <button class=\"colab-df-convert\" onclick=\"convertToInteractive('df-bd161d8c-6384-4727-8d41-587e282b06ec')\"\n",
              "              title=\"Convert this dataframe to an interactive table.\"\n",
              "              style=\"display:none;\">\n",
              "        \n",
              "  <svg xmlns=\"http://www.w3.org/2000/svg\" height=\"24px\"viewBox=\"0 0 24 24\"\n",
              "       width=\"24px\">\n",
              "    <path d=\"M0 0h24v24H0V0z\" fill=\"none\"/>\n",
              "    <path d=\"M18.56 5.44l.94 2.06.94-2.06 2.06-.94-2.06-.94-.94-2.06-.94 2.06-2.06.94zm-11 1L8.5 8.5l.94-2.06 2.06-.94-2.06-.94L8.5 2.5l-.94 2.06-2.06.94zm10 10l.94 2.06.94-2.06 2.06-.94-2.06-.94-.94-2.06-.94 2.06-2.06.94z\"/><path d=\"M17.41 7.96l-1.37-1.37c-.4-.4-.92-.59-1.43-.59-.52 0-1.04.2-1.43.59L10.3 9.45l-7.72 7.72c-.78.78-.78 2.05 0 2.83L4 21.41c.39.39.9.59 1.41.59.51 0 1.02-.2 1.41-.59l7.78-7.78 2.81-2.81c.8-.78.8-2.07 0-2.86zM5.41 20L4 18.59l7.72-7.72 1.47 1.35L5.41 20z\"/>\n",
              "  </svg>\n",
              "      </button>\n",
              "      \n",
              "  <style>\n",
              "    .colab-df-container {\n",
              "      display:flex;\n",
              "      flex-wrap:wrap;\n",
              "      gap: 12px;\n",
              "    }\n",
              "\n",
              "    .colab-df-convert {\n",
              "      background-color: #E8F0FE;\n",
              "      border: none;\n",
              "      border-radius: 50%;\n",
              "      cursor: pointer;\n",
              "      display: none;\n",
              "      fill: #1967D2;\n",
              "      height: 32px;\n",
              "      padding: 0 0 0 0;\n",
              "      width: 32px;\n",
              "    }\n",
              "\n",
              "    .colab-df-convert:hover {\n",
              "      background-color: #E2EBFA;\n",
              "      box-shadow: 0px 1px 2px rgba(60, 64, 67, 0.3), 0px 1px 3px 1px rgba(60, 64, 67, 0.15);\n",
              "      fill: #174EA6;\n",
              "    }\n",
              "\n",
              "    [theme=dark] .colab-df-convert {\n",
              "      background-color: #3B4455;\n",
              "      fill: #D2E3FC;\n",
              "    }\n",
              "\n",
              "    [theme=dark] .colab-df-convert:hover {\n",
              "      background-color: #434B5C;\n",
              "      box-shadow: 0px 1px 3px 1px rgba(0, 0, 0, 0.15);\n",
              "      filter: drop-shadow(0px 1px 2px rgba(0, 0, 0, 0.3));\n",
              "      fill: #FFFFFF;\n",
              "    }\n",
              "  </style>\n",
              "\n",
              "      <script>\n",
              "        const buttonEl =\n",
              "          document.querySelector('#df-bd161d8c-6384-4727-8d41-587e282b06ec button.colab-df-convert');\n",
              "        buttonEl.style.display =\n",
              "          google.colab.kernel.accessAllowed ? 'block' : 'none';\n",
              "\n",
              "        async function convertToInteractive(key) {\n",
              "          const element = document.querySelector('#df-bd161d8c-6384-4727-8d41-587e282b06ec');\n",
              "          const dataTable =\n",
              "            await google.colab.kernel.invokeFunction('convertToInteractive',\n",
              "                                                     [key], {});\n",
              "          if (!dataTable) return;\n",
              "\n",
              "          const docLinkHtml = 'Like what you see? Visit the ' +\n",
              "            '<a target=\"_blank\" href=https://colab.research.google.com/notebooks/data_table.ipynb>data table notebook</a>'\n",
              "            + ' to learn more about interactive tables.';\n",
              "          element.innerHTML = '';\n",
              "          dataTable['output_type'] = 'display_data';\n",
              "          await google.colab.output.renderOutput(dataTable, element);\n",
              "          const docLink = document.createElement('div');\n",
              "          docLink.innerHTML = docLinkHtml;\n",
              "          element.appendChild(docLink);\n",
              "        }\n",
              "      </script>\n",
              "    </div>\n",
              "  </div>\n",
              "  "
            ],
            "text/plain": [
              "     0    1   2\n",
              "0  112   15  12\n",
              "1   11  159   8\n",
              "2   15   12  50"
            ]
          },
          "execution_count": 79,
          "metadata": {},
          "output_type": "execute_result"
        }
      ],
      "source": [
        "matrix = confusion_matrix(y_test, pred)\n",
        "pd.DataFrame(matrix)"
      ]
    },
    {
      "cell_type": "markdown",
      "id": "uFGlnz0mnhye",
      "metadata": {
        "id": "uFGlnz0mnhye"
      },
      "source": [
        "Przy uwzględnieniu większej ilości danych trafność klasyfikaci okazała się lepsza, ponieważ na zbiorze uczącym wyninosła 0.81. Czułość dla klasy \"Marvel Comics\" wynosi aż 0.89 co oznacza, że prawie 90% bohaterów z tej klasy została dobrze zaklasyfikowana."
      ]
    },
    {
      "cell_type": "markdown",
      "id": "Kdi0r61mDu2y",
      "metadata": {
        "id": "Kdi0r61mDu2y"
      },
      "source": [
        "## 30 najważniejszych słów dla klasyfikacji"
      ]
    },
    {
      "cell_type": "code",
      "execution_count": null,
      "id": "k0QtmnqUCmeY",
      "metadata": {
        "id": "k0QtmnqUCmeY"
      },
      "outputs": [],
      "source": [
        "DC_Comics = most_informative_feature_for_class(vectorizer_count, lin,\"DC Comics\", n=30)\n",
        "DC = pd.DataFrame(DC_Comics, columns=[\"DC Comics\"])\n",
        "\n",
        "Marvel_Comics = most_informative_feature_for_class(vectorizer_count, lin,\"Marvel Comics\", n=30)\n",
        "Marvel = pd.DataFrame(Marvel_Comics, columns=[\"Marvel Comics\"])\n",
        "\n",
        "Oth = most_informative_feature_for_class(vectorizer_count, lin,\"Other\", n=30)\n",
        "Othe = pd.DataFrame(Oth, columns=[\"Other\"])"
      ]
    },
    {
      "cell_type": "code",
      "execution_count": null,
      "id": "D2brEki4C_PQ",
      "metadata": {
        "colab": {
          "base_uri": "https://localhost:8080/",
          "height": 989
        },
        "id": "D2brEki4C_PQ",
        "outputId": "cc86946e-3db7-462d-db1d-6253fa614ddc"
      },
      "outputs": [
        {
          "data": {
            "text/html": [
              "\n",
              "  <div id=\"df-174e7b15-e5d9-4965-8f14-bce55627f5d6\">\n",
              "    <div class=\"colab-df-container\">\n",
              "      <div>\n",
              "<style scoped>\n",
              "    .dataframe tbody tr th:only-of-type {\n",
              "        vertical-align: middle;\n",
              "    }\n",
              "\n",
              "    .dataframe tbody tr th {\n",
              "        vertical-align: top;\n",
              "    }\n",
              "\n",
              "    .dataframe thead th {\n",
              "        text-align: right;\n",
              "    }\n",
              "</style>\n",
              "<table border=\"1\" class=\"dataframe\">\n",
              "  <thead>\n",
              "    <tr style=\"text-align: right;\">\n",
              "      <th></th>\n",
              "      <th>DC Comics</th>\n",
              "      <th>Marvel Comics</th>\n",
              "      <th>Other</th>\n",
              "    </tr>\n",
              "  </thead>\n",
              "  <tbody>\n",
              "    <tr>\n",
              "      <th>0</th>\n",
              "      <td>suffering</td>\n",
              "      <td>niobium</td>\n",
              "      <td>cyclotron</td>\n",
              "    </tr>\n",
              "    <tr>\n",
              "      <th>1</th>\n",
              "      <td>joyride</td>\n",
              "      <td>tigers</td>\n",
              "      <td>ropes</td>\n",
              "    </tr>\n",
              "    <tr>\n",
              "      <th>2</th>\n",
              "      <td>egghead</td>\n",
              "      <td>algeria</td>\n",
              "      <td>releasing</td>\n",
              "    </tr>\n",
              "    <tr>\n",
              "      <th>3</th>\n",
              "      <td>illusion</td>\n",
              "      <td>verbal</td>\n",
              "      <td>maturation</td>\n",
              "    </tr>\n",
              "    <tr>\n",
              "      <th>4</th>\n",
              "      <td>krypt</td>\n",
              "      <td>manipulations</td>\n",
              "      <td>fearsome</td>\n",
              "    </tr>\n",
              "    <tr>\n",
              "      <th>5</th>\n",
              "      <td>targeting</td>\n",
              "      <td>indulging</td>\n",
              "      <td>viii</td>\n",
              "    </tr>\n",
              "    <tr>\n",
              "      <th>6</th>\n",
              "      <td>funnier</td>\n",
              "      <td>redd</td>\n",
              "      <td>marred</td>\n",
              "    </tr>\n",
              "    <tr>\n",
              "      <th>7</th>\n",
              "      <td>bovo</td>\n",
              "      <td>callous</td>\n",
              "      <td>alley</td>\n",
              "    </tr>\n",
              "    <tr>\n",
              "      <th>8</th>\n",
              "      <td>armory</td>\n",
              "      <td>limits</td>\n",
              "      <td>updated</td>\n",
              "    </tr>\n",
              "    <tr>\n",
              "      <th>9</th>\n",
              "      <td>silhouettes</td>\n",
              "      <td>martina</td>\n",
              "      <td>sending</td>\n",
              "    </tr>\n",
              "    <tr>\n",
              "      <th>10</th>\n",
              "      <td>qualifications</td>\n",
              "      <td>interprets</td>\n",
              "      <td>maeve</td>\n",
              "    </tr>\n",
              "    <tr>\n",
              "      <th>11</th>\n",
              "      <td>totemistic</td>\n",
              "      <td>collins</td>\n",
              "      <td>cashed</td>\n",
              "    </tr>\n",
              "    <tr>\n",
              "      <th>12</th>\n",
              "      <td>hierarchy</td>\n",
              "      <td>squawk</td>\n",
              "      <td>assailant</td>\n",
              "    </tr>\n",
              "    <tr>\n",
              "      <th>13</th>\n",
              "      <td>aptitudes</td>\n",
              "      <td>workaround</td>\n",
              "      <td>pryor</td>\n",
              "    </tr>\n",
              "    <tr>\n",
              "      <th>14</th>\n",
              "      <td>batarans</td>\n",
              "      <td>selection</td>\n",
              "      <td>soothing</td>\n",
              "    </tr>\n",
              "    <tr>\n",
              "      <th>15</th>\n",
              "      <td>parallel</td>\n",
              "      <td>bulge</td>\n",
              "      <td>evaporate</td>\n",
              "    </tr>\n",
              "    <tr>\n",
              "      <th>16</th>\n",
              "      <td>fist</td>\n",
              "      <td>dan</td>\n",
              "      <td>seizing</td>\n",
              "    </tr>\n",
              "    <tr>\n",
              "      <th>17</th>\n",
              "      <td>subplots</td>\n",
              "      <td>amelia</td>\n",
              "      <td>westerlands</td>\n",
              "    </tr>\n",
              "    <tr>\n",
              "      <th>18</th>\n",
              "      <td>mephiles</td>\n",
              "      <td>humiliation</td>\n",
              "      <td>deceiving</td>\n",
              "    </tr>\n",
              "    <tr>\n",
              "      <th>19</th>\n",
              "      <td>sock</td>\n",
              "      <td>day</td>\n",
              "      <td>klingon</td>\n",
              "    </tr>\n",
              "    <tr>\n",
              "      <th>20</th>\n",
              "      <td>controllable</td>\n",
              "      <td>blindspot</td>\n",
              "      <td>dimensional</td>\n",
              "    </tr>\n",
              "    <tr>\n",
              "      <th>21</th>\n",
              "      <td>considered</td>\n",
              "      <td>artys</td>\n",
              "      <td>battled</td>\n",
              "    </tr>\n",
              "    <tr>\n",
              "      <th>22</th>\n",
              "      <td>graft</td>\n",
              "      <td>avalanche</td>\n",
              "      <td>rosewood</td>\n",
              "    </tr>\n",
              "    <tr>\n",
              "      <th>23</th>\n",
              "      <td>schultzes</td>\n",
              "      <td>highwayman</td>\n",
              "      <td>omaka</td>\n",
              "    </tr>\n",
              "    <tr>\n",
              "      <th>24</th>\n",
              "      <td>gathers</td>\n",
              "      <td>spare</td>\n",
              "      <td>befall</td>\n",
              "    </tr>\n",
              "    <tr>\n",
              "      <th>25</th>\n",
              "      <td>venice</td>\n",
              "      <td>tennis</td>\n",
              "      <td>seville</td>\n",
              "    </tr>\n",
              "    <tr>\n",
              "      <th>26</th>\n",
              "      <td>limehouse</td>\n",
              "      <td>hotel</td>\n",
              "      <td>european</td>\n",
              "    </tr>\n",
              "    <tr>\n",
              "      <th>27</th>\n",
              "      <td>lacks</td>\n",
              "      <td>lehnsherr</td>\n",
              "      <td>sacrificing</td>\n",
              "    </tr>\n",
              "    <tr>\n",
              "      <th>28</th>\n",
              "      <td>willingness</td>\n",
              "      <td>llewellyn</td>\n",
              "      <td>shapeshifter</td>\n",
              "    </tr>\n",
              "    <tr>\n",
              "      <th>29</th>\n",
              "      <td>daphne</td>\n",
              "      <td>mugged</td>\n",
              "      <td>neutro</td>\n",
              "    </tr>\n",
              "  </tbody>\n",
              "</table>\n",
              "</div>\n",
              "      <button class=\"colab-df-convert\" onclick=\"convertToInteractive('df-174e7b15-e5d9-4965-8f14-bce55627f5d6')\"\n",
              "              title=\"Convert this dataframe to an interactive table.\"\n",
              "              style=\"display:none;\">\n",
              "        \n",
              "  <svg xmlns=\"http://www.w3.org/2000/svg\" height=\"24px\"viewBox=\"0 0 24 24\"\n",
              "       width=\"24px\">\n",
              "    <path d=\"M0 0h24v24H0V0z\" fill=\"none\"/>\n",
              "    <path d=\"M18.56 5.44l.94 2.06.94-2.06 2.06-.94-2.06-.94-.94-2.06-.94 2.06-2.06.94zm-11 1L8.5 8.5l.94-2.06 2.06-.94-2.06-.94L8.5 2.5l-.94 2.06-2.06.94zm10 10l.94 2.06.94-2.06 2.06-.94-2.06-.94-.94-2.06-.94 2.06-2.06.94z\"/><path d=\"M17.41 7.96l-1.37-1.37c-.4-.4-.92-.59-1.43-.59-.52 0-1.04.2-1.43.59L10.3 9.45l-7.72 7.72c-.78.78-.78 2.05 0 2.83L4 21.41c.39.39.9.59 1.41.59.51 0 1.02-.2 1.41-.59l7.78-7.78 2.81-2.81c.8-.78.8-2.07 0-2.86zM5.41 20L4 18.59l7.72-7.72 1.47 1.35L5.41 20z\"/>\n",
              "  </svg>\n",
              "      </button>\n",
              "      \n",
              "  <style>\n",
              "    .colab-df-container {\n",
              "      display:flex;\n",
              "      flex-wrap:wrap;\n",
              "      gap: 12px;\n",
              "    }\n",
              "\n",
              "    .colab-df-convert {\n",
              "      background-color: #E8F0FE;\n",
              "      border: none;\n",
              "      border-radius: 50%;\n",
              "      cursor: pointer;\n",
              "      display: none;\n",
              "      fill: #1967D2;\n",
              "      height: 32px;\n",
              "      padding: 0 0 0 0;\n",
              "      width: 32px;\n",
              "    }\n",
              "\n",
              "    .colab-df-convert:hover {\n",
              "      background-color: #E2EBFA;\n",
              "      box-shadow: 0px 1px 2px rgba(60, 64, 67, 0.3), 0px 1px 3px 1px rgba(60, 64, 67, 0.15);\n",
              "      fill: #174EA6;\n",
              "    }\n",
              "\n",
              "    [theme=dark] .colab-df-convert {\n",
              "      background-color: #3B4455;\n",
              "      fill: #D2E3FC;\n",
              "    }\n",
              "\n",
              "    [theme=dark] .colab-df-convert:hover {\n",
              "      background-color: #434B5C;\n",
              "      box-shadow: 0px 1px 3px 1px rgba(0, 0, 0, 0.15);\n",
              "      filter: drop-shadow(0px 1px 2px rgba(0, 0, 0, 0.3));\n",
              "      fill: #FFFFFF;\n",
              "    }\n",
              "  </style>\n",
              "\n",
              "      <script>\n",
              "        const buttonEl =\n",
              "          document.querySelector('#df-174e7b15-e5d9-4965-8f14-bce55627f5d6 button.colab-df-convert');\n",
              "        buttonEl.style.display =\n",
              "          google.colab.kernel.accessAllowed ? 'block' : 'none';\n",
              "\n",
              "        async function convertToInteractive(key) {\n",
              "          const element = document.querySelector('#df-174e7b15-e5d9-4965-8f14-bce55627f5d6');\n",
              "          const dataTable =\n",
              "            await google.colab.kernel.invokeFunction('convertToInteractive',\n",
              "                                                     [key], {});\n",
              "          if (!dataTable) return;\n",
              "\n",
              "          const docLinkHtml = 'Like what you see? Visit the ' +\n",
              "            '<a target=\"_blank\" href=https://colab.research.google.com/notebooks/data_table.ipynb>data table notebook</a>'\n",
              "            + ' to learn more about interactive tables.';\n",
              "          element.innerHTML = '';\n",
              "          dataTable['output_type'] = 'display_data';\n",
              "          await google.colab.output.renderOutput(dataTable, element);\n",
              "          const docLink = document.createElement('div');\n",
              "          docLink.innerHTML = docLinkHtml;\n",
              "          element.appendChild(docLink);\n",
              "        }\n",
              "      </script>\n",
              "    </div>\n",
              "  </div>\n",
              "  "
            ],
            "text/plain": [
              "         DC Comics  Marvel Comics         Other\n",
              "0        suffering        niobium     cyclotron\n",
              "1          joyride         tigers         ropes\n",
              "2          egghead        algeria     releasing\n",
              "3         illusion         verbal    maturation\n",
              "4            krypt  manipulations      fearsome\n",
              "5        targeting      indulging          viii\n",
              "6          funnier           redd        marred\n",
              "7             bovo        callous         alley\n",
              "8           armory         limits       updated\n",
              "9      silhouettes        martina       sending\n",
              "10  qualifications     interprets         maeve\n",
              "11      totemistic        collins        cashed\n",
              "12       hierarchy         squawk     assailant\n",
              "13       aptitudes     workaround         pryor\n",
              "14        batarans      selection      soothing\n",
              "15        parallel          bulge     evaporate\n",
              "16            fist            dan       seizing\n",
              "17        subplots         amelia   westerlands\n",
              "18        mephiles    humiliation     deceiving\n",
              "19            sock            day       klingon\n",
              "20    controllable      blindspot   dimensional\n",
              "21      considered          artys       battled\n",
              "22           graft      avalanche      rosewood\n",
              "23       schultzes     highwayman         omaka\n",
              "24         gathers          spare        befall\n",
              "25          venice         tennis       seville\n",
              "26       limehouse          hotel      european\n",
              "27           lacks      lehnsherr   sacrificing\n",
              "28     willingness      llewellyn  shapeshifter\n",
              "29          daphne         mugged        neutro"
            ]
          },
          "execution_count": 558,
          "metadata": {},
          "output_type": "execute_result"
        }
      ],
      "source": [
        "all = pd.concat([DC, Marvel, Othe], axis = 1)\n",
        "all"
      ]
    },
    {
      "cell_type": "code",
      "execution_count": null,
      "id": "oTxM5poFD74e",
      "metadata": {
        "id": "oTxM5poFD74e"
      },
      "outputs": [],
      "source": [
        "DC_Comics = most_informative_feature_for_class(vectorizer_count, lin2,\"DC Comics\", n=30)\n",
        "DC = pd.DataFrame(DC_Comics, columns=[\"DC Comics\"])\n",
        "\n",
        "Marvel_Comics = most_informative_feature_for_class(vectorizer_count, lin2,\"Marvel Comics\", n=30)\n",
        "Marvel = pd.DataFrame(Marvel_Comics, columns=[\"Marvel Comics\"])\n",
        "\n",
        "Oth = most_informative_feature_for_class(vectorizer_count, lin2,\"Other\", n=30)\n",
        "Othe = pd.DataFrame(Oth, columns=[\"Other\"])"
      ]
    },
    {
      "cell_type": "code",
      "execution_count": null,
      "id": "LGpYoJxWEBSi",
      "metadata": {
        "colab": {
          "base_uri": "https://localhost:8080/",
          "height": 989
        },
        "id": "LGpYoJxWEBSi",
        "outputId": "81ee7b40-b5c8-478f-cb2b-e76f8f8309ce"
      },
      "outputs": [
        {
          "data": {
            "text/html": [
              "\n",
              "  <div id=\"df-a088a97e-714a-4d17-ace8-59d920eaff29\">\n",
              "    <div class=\"colab-df-container\">\n",
              "      <div>\n",
              "<style scoped>\n",
              "    .dataframe tbody tr th:only-of-type {\n",
              "        vertical-align: middle;\n",
              "    }\n",
              "\n",
              "    .dataframe tbody tr th {\n",
              "        vertical-align: top;\n",
              "    }\n",
              "\n",
              "    .dataframe thead th {\n",
              "        text-align: right;\n",
              "    }\n",
              "</style>\n",
              "<table border=\"1\" class=\"dataframe\">\n",
              "  <thead>\n",
              "    <tr style=\"text-align: right;\">\n",
              "      <th></th>\n",
              "      <th>DC Comics</th>\n",
              "      <th>Marvel Comics</th>\n",
              "      <th>Other</th>\n",
              "    </tr>\n",
              "  </thead>\n",
              "  <tbody>\n",
              "    <tr>\n",
              "      <th>0</th>\n",
              "      <td>boy</td>\n",
              "      <td>laufey</td>\n",
              "      <td>castiel</td>\n",
              "    </tr>\n",
              "    <tr>\n",
              "      <th>1</th>\n",
              "      <td>underwater</td>\n",
              "      <td>longevity</td>\n",
              "      <td>antagonists</td>\n",
              "    </tr>\n",
              "    <tr>\n",
              "      <th>2</th>\n",
              "      <td>eternal</td>\n",
              "      <td>lorelei</td>\n",
              "      <td>evolved</td>\n",
              "    </tr>\n",
              "    <tr>\n",
              "      <th>3</th>\n",
              "      <td>roy</td>\n",
              "      <td>america</td>\n",
              "      <td>creation</td>\n",
              "    </tr>\n",
              "    <tr>\n",
              "      <th>4</th>\n",
              "      <td>grayven</td>\n",
              "      <td>weapons</td>\n",
              "      <td>series</td>\n",
              "    </tr>\n",
              "    <tr>\n",
              "      <th>5</th>\n",
              "      <td>gotham</td>\n",
              "      <td>spider</td>\n",
              "      <td>believed</td>\n",
              "    </tr>\n",
              "    <tr>\n",
              "      <th>6</th>\n",
              "      <td>hiro</td>\n",
              "      <td>alien</td>\n",
              "      <td>mall</td>\n",
              "    </tr>\n",
              "    <tr>\n",
              "      <th>7</th>\n",
              "      <td>cash</td>\n",
              "      <td>stark</td>\n",
              "      <td>guy</td>\n",
              "    </tr>\n",
              "    <tr>\n",
              "      <th>8</th>\n",
              "      <td>lantern</td>\n",
              "      <td>colt</td>\n",
              "      <td>hair</td>\n",
              "    </tr>\n",
              "    <tr>\n",
              "      <th>9</th>\n",
              "      <td>league</td>\n",
              "      <td>order</td>\n",
              "      <td>dean</td>\n",
              "    </tr>\n",
              "    <tr>\n",
              "      <th>10</th>\n",
              "      <td>doctor</td>\n",
              "      <td>asgardian</td>\n",
              "      <td>cobra</td>\n",
              "    </tr>\n",
              "    <tr>\n",
              "      <th>11</th>\n",
              "      <td>ethan</td>\n",
              "      <td>west</td>\n",
              "      <td>winchester</td>\n",
              "    </tr>\n",
              "    <tr>\n",
              "      <th>12</th>\n",
              "      <td>richard</td>\n",
              "      <td>tony</td>\n",
              "      <td>valerie</td>\n",
              "    </tr>\n",
              "    <tr>\n",
              "      <th>13</th>\n",
              "      <td>apokolips</td>\n",
              "      <td>banner</td>\n",
              "      <td>alpha</td>\n",
              "    </tr>\n",
              "    <tr>\n",
              "      <th>14</th>\n",
              "      <td>el</td>\n",
              "      <td>daredevil</td>\n",
              "      <td>janeway</td>\n",
              "    </tr>\n",
              "    <tr>\n",
              "      <th>15</th>\n",
              "      <td>titans</td>\n",
              "      <td>guardians</td>\n",
              "      <td>molecular</td>\n",
              "    </tr>\n",
              "    <tr>\n",
              "      <th>16</th>\n",
              "      <td>size</td>\n",
              "      <td>notable</td>\n",
              "      <td>years</td>\n",
              "    </tr>\n",
              "    <tr>\n",
              "      <th>17</th>\n",
              "      <td>artist</td>\n",
              "      <td>sky</td>\n",
              "      <td>arashikage</td>\n",
              "    </tr>\n",
              "    <tr>\n",
              "      <th>18</th>\n",
              "      <td>darkseid</td>\n",
              "      <td>eugene</td>\n",
              "      <td>tomisaburo</td>\n",
              "    </tr>\n",
              "    <tr>\n",
              "      <th>19</th>\n",
              "      <td>metal</td>\n",
              "      <td>thompson</td>\n",
              "      <td>blizzard</td>\n",
              "    </tr>\n",
              "    <tr>\n",
              "      <th>20</th>\n",
              "      <td>metahuman</td>\n",
              "      <td>generals</td>\n",
              "      <td>memory</td>\n",
              "    </tr>\n",
              "    <tr>\n",
              "      <th>21</th>\n",
              "      <td>adrian</td>\n",
              "      <td>galaxy</td>\n",
              "      <td>shinobi</td>\n",
              "    </tr>\n",
              "    <tr>\n",
              "      <th>22</th>\n",
              "      <td>chase</td>\n",
              "      <td>id</td>\n",
              "      <td>commander</td>\n",
              "    </tr>\n",
              "    <tr>\n",
              "      <th>23</th>\n",
              "      <td>martial</td>\n",
              "      <td>charles</td>\n",
              "      <td>does</td>\n",
              "    </tr>\n",
              "    <tr>\n",
              "      <th>24</th>\n",
              "      <td>batman</td>\n",
              "      <td>laura</td>\n",
              "      <td>ability</td>\n",
              "    </tr>\n",
              "    <tr>\n",
              "      <th>25</th>\n",
              "      <td>scarlet</td>\n",
              "      <td>kinney</td>\n",
              "      <td>quantum</td>\n",
              "    </tr>\n",
              "    <tr>\n",
              "      <th>26</th>\n",
              "      <td>vigilante</td>\n",
              "      <td>thanos</td>\n",
              "      <td>morty</td>\n",
              "    </tr>\n",
              "    <tr>\n",
              "      <th>27</th>\n",
              "      <td>immortality</td>\n",
              "      <td>avengers</td>\n",
              "      <td>vision</td>\n",
              "    </tr>\n",
              "    <tr>\n",
              "      <th>28</th>\n",
              "      <td>flash</td>\n",
              "      <td>history</td>\n",
              "      <td>ninja</td>\n",
              "    </tr>\n",
              "    <tr>\n",
              "      <th>29</th>\n",
              "      <td>justice</td>\n",
              "      <td>mutant</td>\n",
              "      <td>adaptation</td>\n",
              "    </tr>\n",
              "  </tbody>\n",
              "</table>\n",
              "</div>\n",
              "      <button class=\"colab-df-convert\" onclick=\"convertToInteractive('df-a088a97e-714a-4d17-ace8-59d920eaff29')\"\n",
              "              title=\"Convert this dataframe to an interactive table.\"\n",
              "              style=\"display:none;\">\n",
              "        \n",
              "  <svg xmlns=\"http://www.w3.org/2000/svg\" height=\"24px\"viewBox=\"0 0 24 24\"\n",
              "       width=\"24px\">\n",
              "    <path d=\"M0 0h24v24H0V0z\" fill=\"none\"/>\n",
              "    <path d=\"M18.56 5.44l.94 2.06.94-2.06 2.06-.94-2.06-.94-.94-2.06-.94 2.06-2.06.94zm-11 1L8.5 8.5l.94-2.06 2.06-.94-2.06-.94L8.5 2.5l-.94 2.06-2.06.94zm10 10l.94 2.06.94-2.06 2.06-.94-2.06-.94-.94-2.06-.94 2.06-2.06.94z\"/><path d=\"M17.41 7.96l-1.37-1.37c-.4-.4-.92-.59-1.43-.59-.52 0-1.04.2-1.43.59L10.3 9.45l-7.72 7.72c-.78.78-.78 2.05 0 2.83L4 21.41c.39.39.9.59 1.41.59.51 0 1.02-.2 1.41-.59l7.78-7.78 2.81-2.81c.8-.78.8-2.07 0-2.86zM5.41 20L4 18.59l7.72-7.72 1.47 1.35L5.41 20z\"/>\n",
              "  </svg>\n",
              "      </button>\n",
              "      \n",
              "  <style>\n",
              "    .colab-df-container {\n",
              "      display:flex;\n",
              "      flex-wrap:wrap;\n",
              "      gap: 12px;\n",
              "    }\n",
              "\n",
              "    .colab-df-convert {\n",
              "      background-color: #E8F0FE;\n",
              "      border: none;\n",
              "      border-radius: 50%;\n",
              "      cursor: pointer;\n",
              "      display: none;\n",
              "      fill: #1967D2;\n",
              "      height: 32px;\n",
              "      padding: 0 0 0 0;\n",
              "      width: 32px;\n",
              "    }\n",
              "\n",
              "    .colab-df-convert:hover {\n",
              "      background-color: #E2EBFA;\n",
              "      box-shadow: 0px 1px 2px rgba(60, 64, 67, 0.3), 0px 1px 3px 1px rgba(60, 64, 67, 0.15);\n",
              "      fill: #174EA6;\n",
              "    }\n",
              "\n",
              "    [theme=dark] .colab-df-convert {\n",
              "      background-color: #3B4455;\n",
              "      fill: #D2E3FC;\n",
              "    }\n",
              "\n",
              "    [theme=dark] .colab-df-convert:hover {\n",
              "      background-color: #434B5C;\n",
              "      box-shadow: 0px 1px 3px 1px rgba(0, 0, 0, 0.15);\n",
              "      filter: drop-shadow(0px 1px 2px rgba(0, 0, 0, 0.3));\n",
              "      fill: #FFFFFF;\n",
              "    }\n",
              "  </style>\n",
              "\n",
              "      <script>\n",
              "        const buttonEl =\n",
              "          document.querySelector('#df-a088a97e-714a-4d17-ace8-59d920eaff29 button.colab-df-convert');\n",
              "        buttonEl.style.display =\n",
              "          google.colab.kernel.accessAllowed ? 'block' : 'none';\n",
              "\n",
              "        async function convertToInteractive(key) {\n",
              "          const element = document.querySelector('#df-a088a97e-714a-4d17-ace8-59d920eaff29');\n",
              "          const dataTable =\n",
              "            await google.colab.kernel.invokeFunction('convertToInteractive',\n",
              "                                                     [key], {});\n",
              "          if (!dataTable) return;\n",
              "\n",
              "          const docLinkHtml = 'Like what you see? Visit the ' +\n",
              "            '<a target=\"_blank\" href=https://colab.research.google.com/notebooks/data_table.ipynb>data table notebook</a>'\n",
              "            + ' to learn more about interactive tables.';\n",
              "          element.innerHTML = '';\n",
              "          dataTable['output_type'] = 'display_data';\n",
              "          await google.colab.output.renderOutput(dataTable, element);\n",
              "          const docLink = document.createElement('div');\n",
              "          docLink.innerHTML = docLinkHtml;\n",
              "          element.appendChild(docLink);\n",
              "        }\n",
              "      </script>\n",
              "    </div>\n",
              "  </div>\n",
              "  "
            ],
            "text/plain": [
              "      DC Comics Marvel Comics        Other\n",
              "0           boy        laufey      castiel\n",
              "1    underwater     longevity  antagonists\n",
              "2       eternal       lorelei      evolved\n",
              "3           roy       america     creation\n",
              "4       grayven       weapons       series\n",
              "5        gotham        spider     believed\n",
              "6          hiro         alien         mall\n",
              "7          cash         stark          guy\n",
              "8       lantern          colt         hair\n",
              "9        league         order         dean\n",
              "10       doctor     asgardian        cobra\n",
              "11        ethan          west   winchester\n",
              "12      richard          tony      valerie\n",
              "13    apokolips        banner        alpha\n",
              "14           el     daredevil      janeway\n",
              "15       titans     guardians    molecular\n",
              "16         size       notable        years\n",
              "17       artist           sky   arashikage\n",
              "18     darkseid        eugene   tomisaburo\n",
              "19        metal      thompson     blizzard\n",
              "20    metahuman      generals       memory\n",
              "21       adrian        galaxy      shinobi\n",
              "22        chase            id    commander\n",
              "23      martial       charles         does\n",
              "24       batman         laura      ability\n",
              "25      scarlet        kinney      quantum\n",
              "26    vigilante        thanos        morty\n",
              "27  immortality      avengers       vision\n",
              "28        flash       history        ninja\n",
              "29      justice        mutant   adaptation"
            ]
          },
          "execution_count": 560,
          "metadata": {},
          "output_type": "execute_result"
        }
      ],
      "source": [
        "all = pd.concat([DC, Marvel, Othe], axis = 1)\n",
        "all"
      ]
    },
    {
      "cell_type": "markdown",
      "id": "e2df127b",
      "metadata": {
        "id": "e2df127b"
      },
      "source": [
        "#  RandomForestClassifier"
      ]
    },
    {
      "cell_type": "code",
      "execution_count": null,
      "id": "dfde3734",
      "metadata": {
        "id": "dfde3734"
      },
      "outputs": [],
      "source": [
        "from sklearn.ensemble import RandomForestClassifier #98 74"
      ]
    },
    {
      "cell_type": "code",
      "execution_count": null,
      "id": "8f054ad2",
      "metadata": {
        "id": "8f054ad2"
      },
      "outputs": [],
      "source": [
        "RF = RandomForestClassifier(n_estimators = 200, max_depth=70, min_samples_leaf=2)"
      ]
    },
    {
      "cell_type": "code",
      "execution_count": null,
      "id": "ab47fff8",
      "metadata": {
        "colab": {
          "base_uri": "https://localhost:8080/"
        },
        "id": "ab47fff8",
        "outputId": "62c056ee-151c-47da-f184-680be60a02ea"
      },
      "outputs": [
        {
          "data": {
            "text/plain": [
              "RandomForestClassifier(max_depth=70, min_samples_leaf=2, n_estimators=200)"
            ]
          },
          "execution_count": 513,
          "metadata": {},
          "output_type": "execute_result"
        }
      ],
      "source": [
        "RF.fit(X_train, y_train)"
      ]
    },
    {
      "cell_type": "code",
      "execution_count": null,
      "id": "b7ac9583",
      "metadata": {
        "id": "b7ac9583"
      },
      "outputs": [],
      "source": [
        "pred=RF.predict(X_test)"
      ]
    },
    {
      "cell_type": "code",
      "execution_count": null,
      "id": "306899fe",
      "metadata": {
        "id": "306899fe"
      },
      "outputs": [],
      "source": [
        "#y_pred"
      ]
    },
    {
      "cell_type": "code",
      "execution_count": null,
      "id": "dae5ada9",
      "metadata": {
        "colab": {
          "base_uri": "https://localhost:8080/"
        },
        "id": "dae5ada9",
        "outputId": "072be57b-5544-4bdd-d755-c2dffd6568d1"
      },
      "outputs": [
        {
          "data": {
            "text/plain": [
              "0.9858233369683751"
            ]
          },
          "execution_count": 516,
          "metadata": {},
          "output_type": "execute_result"
        }
      ],
      "source": [
        "RF.score(X_train, y_train)"
      ]
    },
    {
      "cell_type": "code",
      "execution_count": null,
      "id": "ce3ec7f3",
      "metadata": {
        "colab": {
          "base_uri": "https://localhost:8080/"
        },
        "id": "ce3ec7f3",
        "outputId": "88db5dc7-fe75-4835-ddd8-70cb29e21c52"
      },
      "outputs": [
        {
          "data": {
            "text/plain": [
              "0.7538071065989848"
            ]
          },
          "execution_count": 517,
          "metadata": {},
          "output_type": "execute_result"
        }
      ],
      "source": [
        "RF.score(X_test, y_test)"
      ]
    },
    {
      "cell_type": "code",
      "execution_count": null,
      "id": "8d721c45",
      "metadata": {
        "colab": {
          "base_uri": "https://localhost:8080/"
        },
        "id": "8d721c45",
        "outputId": "d9890ee8-79ce-49d8-8fb3-8ce0516040b1"
      },
      "outputs": [
        {
          "name": "stdout",
          "output_type": "stream",
          "text": [
            "               precision    recall  f1-score   support\n",
            "\n",
            "Marvel Comics       0.88      0.74      0.80       139\n",
            "    DC Comics       0.68      0.98      0.80       178\n",
            "        Other       0.94      0.22      0.36        77\n",
            "\n",
            "     accuracy                           0.75       394\n",
            "    macro avg       0.83      0.65      0.65       394\n",
            " weighted avg       0.80      0.75      0.72       394\n",
            "\n"
          ]
        }
      ],
      "source": [
        "print(metrics.classification_report(y_test, pred, target_names=[\"Marvel Comics\", \"DC Comics\" , \"Other\"]))"
      ]
    },
    {
      "cell_type": "code",
      "execution_count": null,
      "id": "5e73ab36",
      "metadata": {
        "colab": {
          "base_uri": "https://localhost:8080/",
          "height": 143
        },
        "id": "5e73ab36",
        "outputId": "9de279bc-0ac8-4c27-cab5-c8532a6479ff"
      },
      "outputs": [
        {
          "data": {
            "text/html": [
              "\n",
              "  <div id=\"df-6892a717-a7fd-4753-b9d2-2286f1aca570\">\n",
              "    <div class=\"colab-df-container\">\n",
              "      <div>\n",
              "<style scoped>\n",
              "    .dataframe tbody tr th:only-of-type {\n",
              "        vertical-align: middle;\n",
              "    }\n",
              "\n",
              "    .dataframe tbody tr th {\n",
              "        vertical-align: top;\n",
              "    }\n",
              "\n",
              "    .dataframe thead th {\n",
              "        text-align: right;\n",
              "    }\n",
              "</style>\n",
              "<table border=\"1\" class=\"dataframe\">\n",
              "  <thead>\n",
              "    <tr style=\"text-align: right;\">\n",
              "      <th></th>\n",
              "      <th>0</th>\n",
              "      <th>1</th>\n",
              "      <th>2</th>\n",
              "    </tr>\n",
              "  </thead>\n",
              "  <tbody>\n",
              "    <tr>\n",
              "      <th>0</th>\n",
              "      <td>103</td>\n",
              "      <td>36</td>\n",
              "      <td>0</td>\n",
              "    </tr>\n",
              "    <tr>\n",
              "      <th>1</th>\n",
              "      <td>2</td>\n",
              "      <td>175</td>\n",
              "      <td>1</td>\n",
              "    </tr>\n",
              "    <tr>\n",
              "      <th>2</th>\n",
              "      <td>12</td>\n",
              "      <td>48</td>\n",
              "      <td>17</td>\n",
              "    </tr>\n",
              "  </tbody>\n",
              "</table>\n",
              "</div>\n",
              "      <button class=\"colab-df-convert\" onclick=\"convertToInteractive('df-6892a717-a7fd-4753-b9d2-2286f1aca570')\"\n",
              "              title=\"Convert this dataframe to an interactive table.\"\n",
              "              style=\"display:none;\">\n",
              "        \n",
              "  <svg xmlns=\"http://www.w3.org/2000/svg\" height=\"24px\"viewBox=\"0 0 24 24\"\n",
              "       width=\"24px\">\n",
              "    <path d=\"M0 0h24v24H0V0z\" fill=\"none\"/>\n",
              "    <path d=\"M18.56 5.44l.94 2.06.94-2.06 2.06-.94-2.06-.94-.94-2.06-.94 2.06-2.06.94zm-11 1L8.5 8.5l.94-2.06 2.06-.94-2.06-.94L8.5 2.5l-.94 2.06-2.06.94zm10 10l.94 2.06.94-2.06 2.06-.94-2.06-.94-.94-2.06-.94 2.06-2.06.94z\"/><path d=\"M17.41 7.96l-1.37-1.37c-.4-.4-.92-.59-1.43-.59-.52 0-1.04.2-1.43.59L10.3 9.45l-7.72 7.72c-.78.78-.78 2.05 0 2.83L4 21.41c.39.39.9.59 1.41.59.51 0 1.02-.2 1.41-.59l7.78-7.78 2.81-2.81c.8-.78.8-2.07 0-2.86zM5.41 20L4 18.59l7.72-7.72 1.47 1.35L5.41 20z\"/>\n",
              "  </svg>\n",
              "      </button>\n",
              "      \n",
              "  <style>\n",
              "    .colab-df-container {\n",
              "      display:flex;\n",
              "      flex-wrap:wrap;\n",
              "      gap: 12px;\n",
              "    }\n",
              "\n",
              "    .colab-df-convert {\n",
              "      background-color: #E8F0FE;\n",
              "      border: none;\n",
              "      border-radius: 50%;\n",
              "      cursor: pointer;\n",
              "      display: none;\n",
              "      fill: #1967D2;\n",
              "      height: 32px;\n",
              "      padding: 0 0 0 0;\n",
              "      width: 32px;\n",
              "    }\n",
              "\n",
              "    .colab-df-convert:hover {\n",
              "      background-color: #E2EBFA;\n",
              "      box-shadow: 0px 1px 2px rgba(60, 64, 67, 0.3), 0px 1px 3px 1px rgba(60, 64, 67, 0.15);\n",
              "      fill: #174EA6;\n",
              "    }\n",
              "\n",
              "    [theme=dark] .colab-df-convert {\n",
              "      background-color: #3B4455;\n",
              "      fill: #D2E3FC;\n",
              "    }\n",
              "\n",
              "    [theme=dark] .colab-df-convert:hover {\n",
              "      background-color: #434B5C;\n",
              "      box-shadow: 0px 1px 3px 1px rgba(0, 0, 0, 0.15);\n",
              "      filter: drop-shadow(0px 1px 2px rgba(0, 0, 0, 0.3));\n",
              "      fill: #FFFFFF;\n",
              "    }\n",
              "  </style>\n",
              "\n",
              "      <script>\n",
              "        const buttonEl =\n",
              "          document.querySelector('#df-6892a717-a7fd-4753-b9d2-2286f1aca570 button.colab-df-convert');\n",
              "        buttonEl.style.display =\n",
              "          google.colab.kernel.accessAllowed ? 'block' : 'none';\n",
              "\n",
              "        async function convertToInteractive(key) {\n",
              "          const element = document.querySelector('#df-6892a717-a7fd-4753-b9d2-2286f1aca570');\n",
              "          const dataTable =\n",
              "            await google.colab.kernel.invokeFunction('convertToInteractive',\n",
              "                                                     [key], {});\n",
              "          if (!dataTable) return;\n",
              "\n",
              "          const docLinkHtml = 'Like what you see? Visit the ' +\n",
              "            '<a target=\"_blank\" href=https://colab.research.google.com/notebooks/data_table.ipynb>data table notebook</a>'\n",
              "            + ' to learn more about interactive tables.';\n",
              "          element.innerHTML = '';\n",
              "          dataTable['output_type'] = 'display_data';\n",
              "          await google.colab.output.renderOutput(dataTable, element);\n",
              "          const docLink = document.createElement('div');\n",
              "          docLink.innerHTML = docLinkHtml;\n",
              "          element.appendChild(docLink);\n",
              "        }\n",
              "      </script>\n",
              "    </div>\n",
              "  </div>\n",
              "  "
            ],
            "text/plain": [
              "     0    1   2\n",
              "0  103   36   0\n",
              "1    2  175   1\n",
              "2   12   48  17"
            ]
          },
          "execution_count": 419,
          "metadata": {},
          "output_type": "execute_result"
        }
      ],
      "source": [
        "matrix = confusion_matrix(y_test, pred)\n",
        "pd.DataFrame(matrix)"
      ]
    },
    {
      "cell_type": "markdown",
      "id": "e4viTV9HuVMH",
      "metadata": {
        "id": "e4viTV9HuVMH"
      },
      "source": [
        "Klasyfikator uzyskał bardzo dobry wynik trafności na zbiorze uczącym = 0.99, natomiast na zbiorze testowym dość znacząco się pogorszył (trafność = 0.75). Można również zauważyć, że błędnie do zbioru Other zaklasyfikował tylko jedego superbohatera, więc precyzja dla tej grupy jeste bardzo wysoka (0.94). Jednak mimo wysokiej precyzji zbiór ten ma też najgorszą (i widocznie odstającą od dwóch pozostałych grup) czułość wynoszącą 0.22 - większość superbohaterów należących do tego zbioru zostało błędnie przypisanych do innych wydawnictw. Natomiast czułość dla wydawnictwa DC Comics jest bardzo wysoka (0.98) i prawie wszystkie jednostki (z wyjątkiem 3) tej grupy zostały prawidłowo zaklasyfikowane."
      ]
    },
    {
      "cell_type": "code",
      "execution_count": null,
      "id": "xbu7-gDTvQnG",
      "metadata": {
        "id": "xbu7-gDTvQnG"
      },
      "outputs": [],
      "source": []
    },
    {
      "cell_type": "markdown",
      "id": "hAg_E3g2pcmZ",
      "metadata": {
        "id": "hAg_E3g2pcmZ"
      },
      "source": [
        "### Klasyfikacja z uwzględnieniem większej ilości danych"
      ]
    },
    {
      "cell_type": "code",
      "execution_count": null,
      "id": "FAVCEHNQvZQe",
      "metadata": {
        "id": "FAVCEHNQvZQe"
      },
      "outputs": [],
      "source": [
        "RF2 = RandomForestClassifier(n_estimators = 100, max_depth=70, min_samples_leaf=2)"
      ]
    },
    {
      "cell_type": "code",
      "execution_count": null,
      "id": "fpgaOOgPwDDF",
      "metadata": {
        "id": "fpgaOOgPwDDF"
      },
      "outputs": [],
      "source": [
        "#n_estimators = 800, max_depth=70, min_samples_leaf=2)\n",
        "#n_estimators = 1000, max_depth=70, min_samples_leaf=2) - 79"
      ]
    },
    {
      "cell_type": "code",
      "execution_count": null,
      "id": "9L7QXttnvfr5",
      "metadata": {
        "colab": {
          "base_uri": "https://localhost:8080/"
        },
        "id": "9L7QXttnvfr5",
        "outputId": "25555b3f-8318-4ec9-fd49-6d3bfa782018"
      },
      "outputs": [
        {
          "data": {
            "text/plain": [
              "RandomForestClassifier(max_depth=70, min_samples_leaf=2)"
            ]
          },
          "execution_count": 501,
          "metadata": {},
          "output_type": "execute_result"
        }
      ],
      "source": [
        "RF2.fit(X_train2, y_train2)"
      ]
    },
    {
      "cell_type": "code",
      "execution_count": null,
      "id": "akb0XgVevomC",
      "metadata": {
        "id": "akb0XgVevomC"
      },
      "outputs": [],
      "source": [
        "pred=RF2.predict(X_test2)"
      ]
    },
    {
      "cell_type": "code",
      "execution_count": null,
      "id": "4KkVQOnzvwCy",
      "metadata": {
        "colab": {
          "base_uri": "https://localhost:8080/"
        },
        "id": "4KkVQOnzvwCy",
        "outputId": "613a564b-0814-4bcb-ffbc-a0391ff80699"
      },
      "outputs": [
        {
          "data": {
            "text/plain": [
              "0.9792802617230099"
            ]
          },
          "execution_count": 503,
          "metadata": {},
          "output_type": "execute_result"
        }
      ],
      "source": [
        "RF2.score(X_train2, y_train2)"
      ]
    },
    {
      "cell_type": "code",
      "execution_count": null,
      "id": "wjKJU6gYv9Pd",
      "metadata": {
        "colab": {
          "base_uri": "https://localhost:8080/"
        },
        "id": "wjKJU6gYv9Pd",
        "outputId": "1caedbc7-ea8c-4a73-ad43-377878b9a18d"
      },
      "outputs": [
        {
          "data": {
            "text/plain": [
              "0.7893401015228426"
            ]
          },
          "execution_count": 504,
          "metadata": {},
          "output_type": "execute_result"
        }
      ],
      "source": [
        "RF2.score(X_test2, y_test2)"
      ]
    },
    {
      "cell_type": "code",
      "execution_count": null,
      "id": "t3iYVITAxAPK",
      "metadata": {
        "colab": {
          "base_uri": "https://localhost:8080/"
        },
        "id": "t3iYVITAxAPK",
        "outputId": "a89fffe6-2e9d-4b7a-bcc5-83c078ee7f06"
      },
      "outputs": [
        {
          "name": "stdout",
          "output_type": "stream",
          "text": [
            "               precision    recall  f1-score   support\n",
            "\n",
            "Marvel Comics       0.90      0.80      0.85       139\n",
            "    DC Comics       0.71      0.98      0.83       178\n",
            "        Other       0.96      0.32      0.49        77\n",
            "\n",
            "     accuracy                           0.79       394\n",
            "    macro avg       0.86      0.70      0.72       394\n",
            " weighted avg       0.83      0.79      0.77       394\n",
            "\n"
          ]
        }
      ],
      "source": [
        "print(metrics.classification_report(y_test2, pred, target_names=[\"Marvel Comics\", \"DC Comics\" , \"Other\"]))"
      ]
    },
    {
      "cell_type": "code",
      "execution_count": null,
      "id": "wKdQUSfKxDYs",
      "metadata": {
        "colab": {
          "base_uri": "https://localhost:8080/",
          "height": 143
        },
        "id": "wKdQUSfKxDYs",
        "outputId": "c220a070-50bc-434f-8258-4ed6d98e63d0"
      },
      "outputs": [
        {
          "data": {
            "text/html": [
              "\n",
              "  <div id=\"df-110d1a51-bdcf-40c9-bf6b-7e411d361e41\">\n",
              "    <div class=\"colab-df-container\">\n",
              "      <div>\n",
              "<style scoped>\n",
              "    .dataframe tbody tr th:only-of-type {\n",
              "        vertical-align: middle;\n",
              "    }\n",
              "\n",
              "    .dataframe tbody tr th {\n",
              "        vertical-align: top;\n",
              "    }\n",
              "\n",
              "    .dataframe thead th {\n",
              "        text-align: right;\n",
              "    }\n",
              "</style>\n",
              "<table border=\"1\" class=\"dataframe\">\n",
              "  <thead>\n",
              "    <tr style=\"text-align: right;\">\n",
              "      <th></th>\n",
              "      <th>0</th>\n",
              "      <th>1</th>\n",
              "      <th>2</th>\n",
              "    </tr>\n",
              "  </thead>\n",
              "  <tbody>\n",
              "    <tr>\n",
              "      <th>0</th>\n",
              "      <td>111</td>\n",
              "      <td>28</td>\n",
              "      <td>0</td>\n",
              "    </tr>\n",
              "    <tr>\n",
              "      <th>1</th>\n",
              "      <td>2</td>\n",
              "      <td>175</td>\n",
              "      <td>1</td>\n",
              "    </tr>\n",
              "    <tr>\n",
              "      <th>2</th>\n",
              "      <td>10</td>\n",
              "      <td>42</td>\n",
              "      <td>25</td>\n",
              "    </tr>\n",
              "  </tbody>\n",
              "</table>\n",
              "</div>\n",
              "      <button class=\"colab-df-convert\" onclick=\"convertToInteractive('df-110d1a51-bdcf-40c9-bf6b-7e411d361e41')\"\n",
              "              title=\"Convert this dataframe to an interactive table.\"\n",
              "              style=\"display:none;\">\n",
              "        \n",
              "  <svg xmlns=\"http://www.w3.org/2000/svg\" height=\"24px\"viewBox=\"0 0 24 24\"\n",
              "       width=\"24px\">\n",
              "    <path d=\"M0 0h24v24H0V0z\" fill=\"none\"/>\n",
              "    <path d=\"M18.56 5.44l.94 2.06.94-2.06 2.06-.94-2.06-.94-.94-2.06-.94 2.06-2.06.94zm-11 1L8.5 8.5l.94-2.06 2.06-.94-2.06-.94L8.5 2.5l-.94 2.06-2.06.94zm10 10l.94 2.06.94-2.06 2.06-.94-2.06-.94-.94-2.06-.94 2.06-2.06.94z\"/><path d=\"M17.41 7.96l-1.37-1.37c-.4-.4-.92-.59-1.43-.59-.52 0-1.04.2-1.43.59L10.3 9.45l-7.72 7.72c-.78.78-.78 2.05 0 2.83L4 21.41c.39.39.9.59 1.41.59.51 0 1.02-.2 1.41-.59l7.78-7.78 2.81-2.81c.8-.78.8-2.07 0-2.86zM5.41 20L4 18.59l7.72-7.72 1.47 1.35L5.41 20z\"/>\n",
              "  </svg>\n",
              "      </button>\n",
              "      \n",
              "  <style>\n",
              "    .colab-df-container {\n",
              "      display:flex;\n",
              "      flex-wrap:wrap;\n",
              "      gap: 12px;\n",
              "    }\n",
              "\n",
              "    .colab-df-convert {\n",
              "      background-color: #E8F0FE;\n",
              "      border: none;\n",
              "      border-radius: 50%;\n",
              "      cursor: pointer;\n",
              "      display: none;\n",
              "      fill: #1967D2;\n",
              "      height: 32px;\n",
              "      padding: 0 0 0 0;\n",
              "      width: 32px;\n",
              "    }\n",
              "\n",
              "    .colab-df-convert:hover {\n",
              "      background-color: #E2EBFA;\n",
              "      box-shadow: 0px 1px 2px rgba(60, 64, 67, 0.3), 0px 1px 3px 1px rgba(60, 64, 67, 0.15);\n",
              "      fill: #174EA6;\n",
              "    }\n",
              "\n",
              "    [theme=dark] .colab-df-convert {\n",
              "      background-color: #3B4455;\n",
              "      fill: #D2E3FC;\n",
              "    }\n",
              "\n",
              "    [theme=dark] .colab-df-convert:hover {\n",
              "      background-color: #434B5C;\n",
              "      box-shadow: 0px 1px 3px 1px rgba(0, 0, 0, 0.15);\n",
              "      filter: drop-shadow(0px 1px 2px rgba(0, 0, 0, 0.3));\n",
              "      fill: #FFFFFF;\n",
              "    }\n",
              "  </style>\n",
              "\n",
              "      <script>\n",
              "        const buttonEl =\n",
              "          document.querySelector('#df-110d1a51-bdcf-40c9-bf6b-7e411d361e41 button.colab-df-convert');\n",
              "        buttonEl.style.display =\n",
              "          google.colab.kernel.accessAllowed ? 'block' : 'none';\n",
              "\n",
              "        async function convertToInteractive(key) {\n",
              "          const element = document.querySelector('#df-110d1a51-bdcf-40c9-bf6b-7e411d361e41');\n",
              "          const dataTable =\n",
              "            await google.colab.kernel.invokeFunction('convertToInteractive',\n",
              "                                                     [key], {});\n",
              "          if (!dataTable) return;\n",
              "\n",
              "          const docLinkHtml = 'Like what you see? Visit the ' +\n",
              "            '<a target=\"_blank\" href=https://colab.research.google.com/notebooks/data_table.ipynb>data table notebook</a>'\n",
              "            + ' to learn more about interactive tables.';\n",
              "          element.innerHTML = '';\n",
              "          dataTable['output_type'] = 'display_data';\n",
              "          await google.colab.output.renderOutput(dataTable, element);\n",
              "          const docLink = document.createElement('div');\n",
              "          docLink.innerHTML = docLinkHtml;\n",
              "          element.appendChild(docLink);\n",
              "        }\n",
              "      </script>\n",
              "    </div>\n",
              "  </div>\n",
              "  "
            ],
            "text/plain": [
              "     0    1   2\n",
              "0  111   28   0\n",
              "1    2  175   1\n",
              "2   10   42  25"
            ]
          },
          "execution_count": 479,
          "metadata": {},
          "output_type": "execute_result"
        }
      ],
      "source": [
        "matrix = confusion_matrix(y_test2, pred)\n",
        "pd.DataFrame(matrix)"
      ]
    },
    {
      "cell_type": "markdown",
      "id": "Xwumz8NaxWyy",
      "metadata": {
        "id": "Xwumz8NaxWyy"
      },
      "source": [
        "Przy większej ilości wykorzystanych danych trafność na zbiorze testowym polepszyła się i wynosi 0.79."
      ]
    },
    {
      "cell_type": "markdown",
      "id": "mwo2aEVlyWvb",
      "metadata": {
        "id": "mwo2aEVlyWvb"
      },
      "source": [
        "# Porównanie i podsumowanie"
      ]
    },
    {
      "cell_type": "markdown",
      "id": "qVmeQP1_BP9m",
      "metadata": {
        "id": "qVmeQP1_BP9m"
      },
      "source": [
        "### Dla kolumn \"histotry_text\", \"powers_text\""
      ]
    },
    {
      "cell_type": "code",
      "execution_count": null,
      "id": "r-_X1r4V22no",
      "metadata": {
        "id": "r-_X1r4V22no"
      },
      "outputs": [],
      "source": [
        "wartosci = {\n",
        "  \"Naive Bayes\": [0.85, 0.75],\n",
        "  \"K Neighbours Classifier\": [0.75, 0.68],\n",
        "  \"Nearest Centroid\": [0.60, 0.57],\n",
        "  \"Linear SVC\": [1, 0.77],\n",
        "  \"Random Forrest Classifier\": [0.99, 0.75],\n",
        "}"
      ]
    },
    {
      "cell_type": "code",
      "execution_count": null,
      "id": "VR3_KBQM_Cy4",
      "metadata": {
        "colab": {
          "base_uri": "https://localhost:8080/",
          "height": 206
        },
        "id": "VR3_KBQM_Cy4",
        "outputId": "88bff5ed-d3a8-4a7f-bc83-ae89749a583d"
      },
      "outputs": [
        {
          "data": {
            "text/html": [
              "\n",
              "  <div id=\"df-b5b3098a-4cb7-450b-bf8b-fddde5b7caf0\">\n",
              "    <div class=\"colab-df-container\">\n",
              "      <div>\n",
              "<style scoped>\n",
              "    .dataframe tbody tr th:only-of-type {\n",
              "        vertical-align: middle;\n",
              "    }\n",
              "\n",
              "    .dataframe tbody tr th {\n",
              "        vertical-align: top;\n",
              "    }\n",
              "\n",
              "    .dataframe thead th {\n",
              "        text-align: right;\n",
              "    }\n",
              "</style>\n",
              "<table border=\"1\" class=\"dataframe\">\n",
              "  <thead>\n",
              "    <tr style=\"text-align: right;\">\n",
              "      <th></th>\n",
              "      <th>Uczący</th>\n",
              "      <th>Testowy</th>\n",
              "    </tr>\n",
              "  </thead>\n",
              "  <tbody>\n",
              "    <tr>\n",
              "      <th>Naive Bayes</th>\n",
              "      <td>0.85</td>\n",
              "      <td>0.75</td>\n",
              "    </tr>\n",
              "    <tr>\n",
              "      <th>K Neighbours Classifier</th>\n",
              "      <td>0.75</td>\n",
              "      <td>0.68</td>\n",
              "    </tr>\n",
              "    <tr>\n",
              "      <th>Nearest Centroid</th>\n",
              "      <td>0.60</td>\n",
              "      <td>0.57</td>\n",
              "    </tr>\n",
              "    <tr>\n",
              "      <th>Linear SVC</th>\n",
              "      <td>1.00</td>\n",
              "      <td>0.77</td>\n",
              "    </tr>\n",
              "    <tr>\n",
              "      <th>Random Forrest Classifier</th>\n",
              "      <td>0.99</td>\n",
              "      <td>0.75</td>\n",
              "    </tr>\n",
              "  </tbody>\n",
              "</table>\n",
              "</div>\n",
              "      <button class=\"colab-df-convert\" onclick=\"convertToInteractive('df-b5b3098a-4cb7-450b-bf8b-fddde5b7caf0')\"\n",
              "              title=\"Convert this dataframe to an interactive table.\"\n",
              "              style=\"display:none;\">\n",
              "        \n",
              "  <svg xmlns=\"http://www.w3.org/2000/svg\" height=\"24px\"viewBox=\"0 0 24 24\"\n",
              "       width=\"24px\">\n",
              "    <path d=\"M0 0h24v24H0V0z\" fill=\"none\"/>\n",
              "    <path d=\"M18.56 5.44l.94 2.06.94-2.06 2.06-.94-2.06-.94-.94-2.06-.94 2.06-2.06.94zm-11 1L8.5 8.5l.94-2.06 2.06-.94-2.06-.94L8.5 2.5l-.94 2.06-2.06.94zm10 10l.94 2.06.94-2.06 2.06-.94-2.06-.94-.94-2.06-.94 2.06-2.06.94z\"/><path d=\"M17.41 7.96l-1.37-1.37c-.4-.4-.92-.59-1.43-.59-.52 0-1.04.2-1.43.59L10.3 9.45l-7.72 7.72c-.78.78-.78 2.05 0 2.83L4 21.41c.39.39.9.59 1.41.59.51 0 1.02-.2 1.41-.59l7.78-7.78 2.81-2.81c.8-.78.8-2.07 0-2.86zM5.41 20L4 18.59l7.72-7.72 1.47 1.35L5.41 20z\"/>\n",
              "  </svg>\n",
              "      </button>\n",
              "      \n",
              "  <style>\n",
              "    .colab-df-container {\n",
              "      display:flex;\n",
              "      flex-wrap:wrap;\n",
              "      gap: 12px;\n",
              "    }\n",
              "\n",
              "    .colab-df-convert {\n",
              "      background-color: #E8F0FE;\n",
              "      border: none;\n",
              "      border-radius: 50%;\n",
              "      cursor: pointer;\n",
              "      display: none;\n",
              "      fill: #1967D2;\n",
              "      height: 32px;\n",
              "      padding: 0 0 0 0;\n",
              "      width: 32px;\n",
              "    }\n",
              "\n",
              "    .colab-df-convert:hover {\n",
              "      background-color: #E2EBFA;\n",
              "      box-shadow: 0px 1px 2px rgba(60, 64, 67, 0.3), 0px 1px 3px 1px rgba(60, 64, 67, 0.15);\n",
              "      fill: #174EA6;\n",
              "    }\n",
              "\n",
              "    [theme=dark] .colab-df-convert {\n",
              "      background-color: #3B4455;\n",
              "      fill: #D2E3FC;\n",
              "    }\n",
              "\n",
              "    [theme=dark] .colab-df-convert:hover {\n",
              "      background-color: #434B5C;\n",
              "      box-shadow: 0px 1px 3px 1px rgba(0, 0, 0, 0.15);\n",
              "      filter: drop-shadow(0px 1px 2px rgba(0, 0, 0, 0.3));\n",
              "      fill: #FFFFFF;\n",
              "    }\n",
              "  </style>\n",
              "\n",
              "      <script>\n",
              "        const buttonEl =\n",
              "          document.querySelector('#df-b5b3098a-4cb7-450b-bf8b-fddde5b7caf0 button.colab-df-convert');\n",
              "        buttonEl.style.display =\n",
              "          google.colab.kernel.accessAllowed ? 'block' : 'none';\n",
              "\n",
              "        async function convertToInteractive(key) {\n",
              "          const element = document.querySelector('#df-b5b3098a-4cb7-450b-bf8b-fddde5b7caf0');\n",
              "          const dataTable =\n",
              "            await google.colab.kernel.invokeFunction('convertToInteractive',\n",
              "                                                     [key], {});\n",
              "          if (!dataTable) return;\n",
              "\n",
              "          const docLinkHtml = 'Like what you see? Visit the ' +\n",
              "            '<a target=\"_blank\" href=https://colab.research.google.com/notebooks/data_table.ipynb>data table notebook</a>'\n",
              "            + ' to learn more about interactive tables.';\n",
              "          element.innerHTML = '';\n",
              "          dataTable['output_type'] = 'display_data';\n",
              "          await google.colab.output.renderOutput(dataTable, element);\n",
              "          const docLink = document.createElement('div');\n",
              "          docLink.innerHTML = docLinkHtml;\n",
              "          element.appendChild(docLink);\n",
              "        }\n",
              "      </script>\n",
              "    </div>\n",
              "  </div>\n",
              "  "
            ],
            "text/plain": [
              "                           Uczący  Testowy\n",
              "Naive Bayes                  0.85     0.75\n",
              "K Neighbours Classifier      0.75     0.68\n",
              "Nearest Centroid             0.60     0.57\n",
              "Linear SVC                   1.00     0.77\n",
              "Random Forrest Classifier    0.99     0.75"
            ]
          },
          "execution_count": 564,
          "metadata": {},
          "output_type": "execute_result"
        }
      ],
      "source": [
        "pd.DataFrame.from_dict(wartosci, orient='index', columns= [\"Uczący\", \"Testowy\"])"
      ]
    },
    {
      "cell_type": "markdown",
      "id": "5KYOSHFMBWtx",
      "metadata": {
        "id": "5KYOSHFMBWtx"
      },
      "source": [
        "Najlepszym klasyfikatorem okazał się LinearSVC, natomiast najgorszym NearestCentroid.  "
      ]
    },
    {
      "cell_type": "markdown",
      "id": "pL_RA59DBtek",
      "metadata": {
        "id": "pL_RA59DBtek"
      },
      "source": [
        "### Klasyfikacja z uwzględnieniem większej ilości danych"
      ]
    },
    {
      "cell_type": "code",
      "execution_count": null,
      "id": "Of0p5K26_rtp",
      "metadata": {
        "id": "Of0p5K26_rtp"
      },
      "outputs": [],
      "source": [
        "wartosci2 = {\n",
        "  \"Naive Bayes\": [0.85, 0.77],\n",
        "  \"K Neighbours Classifier\": [0.73, 0.68],\n",
        "  \"Nearest Centroid\": [0.61, 0.59],\n",
        "  \"Linear SVC\": [1, 0.81],\n",
        "  \"Random Forrest Classifier\": [0.98, 0.79],\n",
        "}"
      ]
    },
    {
      "cell_type": "code",
      "execution_count": null,
      "id": "TK4mAmrHBMbD",
      "metadata": {
        "colab": {
          "base_uri": "https://localhost:8080/",
          "height": 206
        },
        "id": "TK4mAmrHBMbD",
        "outputId": "fa8c4ed3-fb3c-41fa-f69a-fb99a514b69b"
      },
      "outputs": [
        {
          "data": {
            "text/html": [
              "\n",
              "  <div id=\"df-6b055420-ab77-4c28-93c0-887d9c5e71f8\">\n",
              "    <div class=\"colab-df-container\">\n",
              "      <div>\n",
              "<style scoped>\n",
              "    .dataframe tbody tr th:only-of-type {\n",
              "        vertical-align: middle;\n",
              "    }\n",
              "\n",
              "    .dataframe tbody tr th {\n",
              "        vertical-align: top;\n",
              "    }\n",
              "\n",
              "    .dataframe thead th {\n",
              "        text-align: right;\n",
              "    }\n",
              "</style>\n",
              "<table border=\"1\" class=\"dataframe\">\n",
              "  <thead>\n",
              "    <tr style=\"text-align: right;\">\n",
              "      <th></th>\n",
              "      <th>Uczący</th>\n",
              "      <th>Testowy</th>\n",
              "    </tr>\n",
              "  </thead>\n",
              "  <tbody>\n",
              "    <tr>\n",
              "      <th>Naive Bayes</th>\n",
              "      <td>0.85</td>\n",
              "      <td>0.77</td>\n",
              "    </tr>\n",
              "    <tr>\n",
              "      <th>K Neighbours Classifier</th>\n",
              "      <td>0.73</td>\n",
              "      <td>0.68</td>\n",
              "    </tr>\n",
              "    <tr>\n",
              "      <th>Nearest Centroid</th>\n",
              "      <td>0.61</td>\n",
              "      <td>0.59</td>\n",
              "    </tr>\n",
              "    <tr>\n",
              "      <th>Linear SVC</th>\n",
              "      <td>1.00</td>\n",
              "      <td>0.81</td>\n",
              "    </tr>\n",
              "    <tr>\n",
              "      <th>Random Forrest Classifier</th>\n",
              "      <td>0.98</td>\n",
              "      <td>0.79</td>\n",
              "    </tr>\n",
              "  </tbody>\n",
              "</table>\n",
              "</div>\n",
              "      <button class=\"colab-df-convert\" onclick=\"convertToInteractive('df-6b055420-ab77-4c28-93c0-887d9c5e71f8')\"\n",
              "              title=\"Convert this dataframe to an interactive table.\"\n",
              "              style=\"display:none;\">\n",
              "        \n",
              "  <svg xmlns=\"http://www.w3.org/2000/svg\" height=\"24px\"viewBox=\"0 0 24 24\"\n",
              "       width=\"24px\">\n",
              "    <path d=\"M0 0h24v24H0V0z\" fill=\"none\"/>\n",
              "    <path d=\"M18.56 5.44l.94 2.06.94-2.06 2.06-.94-2.06-.94-.94-2.06-.94 2.06-2.06.94zm-11 1L8.5 8.5l.94-2.06 2.06-.94-2.06-.94L8.5 2.5l-.94 2.06-2.06.94zm10 10l.94 2.06.94-2.06 2.06-.94-2.06-.94-.94-2.06-.94 2.06-2.06.94z\"/><path d=\"M17.41 7.96l-1.37-1.37c-.4-.4-.92-.59-1.43-.59-.52 0-1.04.2-1.43.59L10.3 9.45l-7.72 7.72c-.78.78-.78 2.05 0 2.83L4 21.41c.39.39.9.59 1.41.59.51 0 1.02-.2 1.41-.59l7.78-7.78 2.81-2.81c.8-.78.8-2.07 0-2.86zM5.41 20L4 18.59l7.72-7.72 1.47 1.35L5.41 20z\"/>\n",
              "  </svg>\n",
              "      </button>\n",
              "      \n",
              "  <style>\n",
              "    .colab-df-container {\n",
              "      display:flex;\n",
              "      flex-wrap:wrap;\n",
              "      gap: 12px;\n",
              "    }\n",
              "\n",
              "    .colab-df-convert {\n",
              "      background-color: #E8F0FE;\n",
              "      border: none;\n",
              "      border-radius: 50%;\n",
              "      cursor: pointer;\n",
              "      display: none;\n",
              "      fill: #1967D2;\n",
              "      height: 32px;\n",
              "      padding: 0 0 0 0;\n",
              "      width: 32px;\n",
              "    }\n",
              "\n",
              "    .colab-df-convert:hover {\n",
              "      background-color: #E2EBFA;\n",
              "      box-shadow: 0px 1px 2px rgba(60, 64, 67, 0.3), 0px 1px 3px 1px rgba(60, 64, 67, 0.15);\n",
              "      fill: #174EA6;\n",
              "    }\n",
              "\n",
              "    [theme=dark] .colab-df-convert {\n",
              "      background-color: #3B4455;\n",
              "      fill: #D2E3FC;\n",
              "    }\n",
              "\n",
              "    [theme=dark] .colab-df-convert:hover {\n",
              "      background-color: #434B5C;\n",
              "      box-shadow: 0px 1px 3px 1px rgba(0, 0, 0, 0.15);\n",
              "      filter: drop-shadow(0px 1px 2px rgba(0, 0, 0, 0.3));\n",
              "      fill: #FFFFFF;\n",
              "    }\n",
              "  </style>\n",
              "\n",
              "      <script>\n",
              "        const buttonEl =\n",
              "          document.querySelector('#df-6b055420-ab77-4c28-93c0-887d9c5e71f8 button.colab-df-convert');\n",
              "        buttonEl.style.display =\n",
              "          google.colab.kernel.accessAllowed ? 'block' : 'none';\n",
              "\n",
              "        async function convertToInteractive(key) {\n",
              "          const element = document.querySelector('#df-6b055420-ab77-4c28-93c0-887d9c5e71f8');\n",
              "          const dataTable =\n",
              "            await google.colab.kernel.invokeFunction('convertToInteractive',\n",
              "                                                     [key], {});\n",
              "          if (!dataTable) return;\n",
              "\n",
              "          const docLinkHtml = 'Like what you see? Visit the ' +\n",
              "            '<a target=\"_blank\" href=https://colab.research.google.com/notebooks/data_table.ipynb>data table notebook</a>'\n",
              "            + ' to learn more about interactive tables.';\n",
              "          element.innerHTML = '';\n",
              "          dataTable['output_type'] = 'display_data';\n",
              "          await google.colab.output.renderOutput(dataTable, element);\n",
              "          const docLink = document.createElement('div');\n",
              "          docLink.innerHTML = docLinkHtml;\n",
              "          element.appendChild(docLink);\n",
              "        }\n",
              "      </script>\n",
              "    </div>\n",
              "  </div>\n",
              "  "
            ],
            "text/plain": [
              "                           Uczący  Testowy\n",
              "Naive Bayes                  0.85     0.77\n",
              "K Neighbours Classifier      0.73     0.68\n",
              "Nearest Centroid             0.61     0.59\n",
              "Linear SVC                   1.00     0.81\n",
              "Random Forrest Classifier    0.98     0.79"
            ]
          },
          "execution_count": 562,
          "metadata": {},
          "output_type": "execute_result"
        }
      ],
      "source": [
        "pd.DataFrame.from_dict(wartosci2, orient='index', columns= [\"Uczący\", \"Testowy\"])"
      ]
    },
    {
      "cell_type": "markdown",
      "id": "eHmWl-6eGCnV",
      "metadata": {
        "id": "eHmWl-6eGCnV"
      },
      "source": [
        "Przy uwzlędnieniu większej ilości danych, najlepszym klasyfikatorem również okazał się Linear SVC. Wyniki w prawie wszystkich klasyfikatorach polepszyły się, aczkolwiek są bardzo zbliżone do poprzednich. Nearest Centroid niezmiennie poradził sobie najgorzej z klasyfikacją postaci. Należy jednak zaznaczyć, że nie zostały wybrane wszystkie pozostałe kolumny, tylko te, które w subiektywny sposób zostały uznane za istotne."
      ]
    },
    {
      "cell_type": "code",
      "execution_count": null,
      "id": "K2ZCJK2cHHns",
      "metadata": {
        "id": "K2ZCJK2cHHns"
      },
      "outputs": [],
      "source": []
    }
  ],
  "metadata": {
    "colab": {
      "provenance": [],
      "toc_visible": true
    },
    "kernelspec": {
      "display_name": "Python 3 (ipykernel)",
      "language": "python",
      "name": "python3"
    },
    "language_info": {
      "codemirror_mode": {
        "name": "ipython",
        "version": 3
      },
      "file_extension": ".py",
      "mimetype": "text/x-python",
      "name": "python",
      "nbconvert_exporter": "python",
      "pygments_lexer": "ipython3",
      "version": "3.7.7"
    }
  },
  "nbformat": 4,
  "nbformat_minor": 5
}